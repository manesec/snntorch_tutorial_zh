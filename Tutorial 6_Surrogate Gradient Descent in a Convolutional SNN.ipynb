{
  "cells": [
    {
      "cell_type": "markdown",
      "metadata": {
        "collapsed": false,
        "id": "uSGZ6cdmpknm",
        "pycharm": {
          "name": "#%% md\n"
        }
      },
      "source": [
        "[<img src='https://github.com/jeshraghian/snntorch/blob/master/docs/_static/img/snntorch_alpha_w.png?raw=true' width=\"400\">](https://github.com/jeshraghian/snntorch/)\n",
        "\n",
        "# snnTorch - Surrogate Gradient Descent in a Convolutional Spiking Neural Network\n",
        "## Tutorial 6\n",
        "### By Jason K. Eshraghian (www.ncg.ucsc.edu)\n",
        "### 偏白话文翻译： manesec\n",
        "\n",
        "<a href=\"https://colab.research.google.com/github/jeshraghian/snntorch/blob/master/examples/tutorial_6_CNN.ipynb\">\n",
        "  <img src=\"https://colab.research.google.com/assets/colab-badge.svg\" alt=\"Open In Colab\"/>\n",
        "</a>\n",
        "\n",
        "[<img src='https://github.com/jeshraghian/snntorch/blob/master/docs/_static/img/GitHub-Mark-Light-120px-plus.png?raw=true' width=\"28\">](https://github.com/jeshraghian/snntorch/) [<img src='https://github.com/jeshraghian/snntorch/blob/master/docs/_static/img/GitHub_Logo_White.png?raw=true' width=\"80\">](https://github.com/jeshraghian/snntorch/)"
      ]
    },
    {
      "cell_type": "markdown",
      "metadata": {
        "id": "rugeYYiqsrlc"
      },
      "source": [
        "snnTorch 教程系列基于以下论文。如果您发现这些资源或代码对您有帮助，请考虑引用以下来源：\n",
        "\n",
        "> <cite> [Jason K. Eshraghian, Max Ward, Emre Neftci, Xinxin Wang, Gregor Lenz, Girish Dwivedi, Mohammed Bennamoun, Doo Seok Jeong, and Wei D. Lu. \"Training Spiking Neural Networks Using Lessons From Deep Learning\". arXiv preprint arXiv:2109.12894, September 2021.](https://arxiv.org/abs/2109.12894) </cite>\n"
      ]
    },
    {
      "cell_type": "markdown",
      "metadata": {
        "id": "Ymi3sqJg28OQ"
      },
      "source": [
        "# 简介\n",
        "在本教程中，您将\n",
        "* 学习如何修改代理梯度下降算法以克服死神经元问题\n",
        "* 构建并训练一个卷积尖峰神经网络\n",
        "* 使用顺序容器 `nn.Sequential` 简化模型构建\n",
        "\n",
        "本教程的部分内容受到了 Friedemann Zenke\n",
        "关于 SNN 的大量工作的启发。请查看他关于代梯度的资料库\n",
        "[这里](https://github.com/fzenke/spytorch)，以及我最喜欢的一篇论文： E. O. Neftci、H. Mostafa、F. Zenke，[代梯度学习： 将基于梯度的优化功能引入尖峰神经网络。](https://ieeexplore.ieee.org/document/8891809) IEEE\n",
        "信号处理杂志》36，51-63。\n",
        "\n",
        "在教程的最后，我们将使用 MNIST 数据集训练一个卷积尖峰神经网络 (CSNN)，以执行图像分类。本教程的背景理论沿袭自 [教程 2、4 和 5](https://snntorch.readthedocs.io/en/latest/tutorials/index.html)，如果您需要复习，请随时查阅。\n",
        "\n",
        "如果在 Google Colab 中运行：\n",
        "* 你可以通过检查 `Runtime` > `Change runtime type` > `Hardware accelerator： GPU`\n",
        "* 接下来，点击下面的单元格并按下 `Shift+Enter` 键，安装 snnTorch 的最新 PyPi 发行版。"
      ]
    },
    {
      "cell_type": "code",
      "execution_count": 1,
      "metadata": {
        "id": "5tn_wUlopkon",
        "pycharm": {
          "name": "#%%\n"
        }
      },
      "outputs": [
        {
          "name": "stdout",
          "output_type": "stream",
          "text": [
            "Requirement already satisfied: snntorch in c:\\users\\qq491\\appdata\\local\\programs\\python\\python310\\lib\\site-packages (0.7.0)\n",
            "Requirement already satisfied: torch>=1.1.0 in c:\\users\\qq491\\appdata\\local\\programs\\python\\python310\\lib\\site-packages (from snntorch) (2.0.1)\n",
            "Requirement already satisfied: pandas in c:\\users\\qq491\\appdata\\local\\programs\\python\\python310\\lib\\site-packages (from snntorch) (2.0.3)\n",
            "Requirement already satisfied: matplotlib in c:\\users\\qq491\\appdata\\local\\programs\\python\\python310\\lib\\site-packages (from snntorch) (3.7.2)\n",
            "Requirement already satisfied: numpy>=1.17 in c:\\users\\qq491\\appdata\\local\\programs\\python\\python310\\lib\\site-packages (from snntorch) (1.25.2)\n",
            "Requirement already satisfied: nir in c:\\users\\qq491\\appdata\\local\\programs\\python\\python310\\lib\\site-packages (from snntorch) (0.1.0)\n",
            "Requirement already satisfied: nirtorch in c:\\users\\qq491\\appdata\\local\\programs\\python\\python310\\lib\\site-packages (from snntorch) (0.1.1)\n",
            "Requirement already satisfied: filelock in c:\\users\\qq491\\appdata\\local\\programs\\python\\python310\\lib\\site-packages (from torch>=1.1.0->snntorch) (3.12.2)\n",
            "Requirement already satisfied: typing-extensions in c:\\users\\qq491\\appdata\\local\\programs\\python\\python310\\lib\\site-packages (from torch>=1.1.0->snntorch) (4.5.0)\n",
            "Requirement already satisfied: sympy in c:\\users\\qq491\\appdata\\local\\programs\\python\\python310\\lib\\site-packages (from torch>=1.1.0->snntorch) (1.11.1)\n",
            "Requirement already satisfied: networkx in c:\\users\\qq491\\appdata\\local\\programs\\python\\python310\\lib\\site-packages (from torch>=1.1.0->snntorch) (3.1)\n",
            "Requirement already satisfied: jinja2 in c:\\users\\qq491\\appdata\\local\\programs\\python\\python310\\lib\\site-packages (from torch>=1.1.0->snntorch) (3.1.2)\n",
            "Requirement already satisfied: contourpy>=1.0.1 in c:\\users\\qq491\\appdata\\local\\programs\\python\\python310\\lib\\site-packages (from matplotlib->snntorch) (1.1.0)\n",
            "Requirement already satisfied: cycler>=0.10 in c:\\users\\qq491\\appdata\\local\\programs\\python\\python310\\lib\\site-packages (from matplotlib->snntorch) (0.11.0)\n",
            "Requirement already satisfied: fonttools>=4.22.0 in c:\\users\\qq491\\appdata\\local\\programs\\python\\python310\\lib\\site-packages (from matplotlib->snntorch) (4.42.1)\n",
            "Requirement already satisfied: kiwisolver>=1.0.1 in c:\\users\\qq491\\appdata\\local\\programs\\python\\python310\\lib\\site-packages (from matplotlib->snntorch) (1.4.5)\n",
            "Requirement already satisfied: packaging>=20.0 in c:\\users\\qq491\\appdata\\local\\programs\\python\\python310\\lib\\site-packages (from matplotlib->snntorch) (23.1)\n",
            "Requirement already satisfied: pillow>=6.2.0 in c:\\users\\qq491\\appdata\\local\\programs\\python\\python310\\lib\\site-packages (from matplotlib->snntorch) (10.0.0)\n",
            "Requirement already satisfied: pyparsing<3.1,>=2.3.1 in c:\\users\\qq491\\appdata\\local\\programs\\python\\python310\\lib\\site-packages (from matplotlib->snntorch) (3.0.9)\n",
            "Requirement already satisfied: python-dateutil>=2.7 in c:\\users\\qq491\\appdata\\local\\programs\\python\\python310\\lib\\site-packages (from matplotlib->snntorch) (2.8.2)\n",
            "Requirement already satisfied: h5py in c:\\users\\qq491\\appdata\\local\\programs\\python\\python310\\lib\\site-packages (from nir->snntorch) (3.9.0)\n",
            "Requirement already satisfied: pytz>=2020.1 in c:\\users\\qq491\\appdata\\local\\programs\\python\\python310\\lib\\site-packages (from pandas->snntorch) (2023.3)\n",
            "Requirement already satisfied: tzdata>=2022.1 in c:\\users\\qq491\\appdata\\local\\programs\\python\\python310\\lib\\site-packages (from pandas->snntorch) (2023.3)\n",
            "Requirement already satisfied: six>=1.5 in c:\\users\\qq491\\appdata\\local\\programs\\python\\python310\\lib\\site-packages (from python-dateutil>=2.7->matplotlib->snntorch) (1.16.0)\n",
            "Requirement already satisfied: MarkupSafe>=2.0 in c:\\users\\qq491\\appdata\\local\\programs\\python\\python310\\lib\\site-packages (from jinja2->torch>=1.1.0->snntorch) (2.1.3)\n",
            "Requirement already satisfied: mpmath>=0.19 in c:\\users\\qq491\\appdata\\local\\programs\\python\\python310\\lib\\site-packages (from sympy->torch>=1.1.0->snntorch) (1.2.1)\n"
          ]
        }
      ],
      "source": [
        "!pip install snntorch"
      ]
    },
    {
      "cell_type": "code",
      "execution_count": 2,
      "metadata": {
        "id": "QXZ6Tuqc9Q-l"
      },
      "outputs": [
        {
          "name": "stderr",
          "output_type": "stream",
          "text": [
            "C:\\Users\\qq491\\AppData\\Local\\Temp\\ipykernel_18784\\3569606770.py:4: DeprecationWarning: The module snntorch.backprop will be deprecated in  a future release. Writing out your own training loop will lead to substantially faster performance.\n",
            "  from snntorch import backprop\n"
          ]
        }
      ],
      "source": [
        "# imports\n",
        "import snntorch as snn\n",
        "from snntorch import surrogate\n",
        "from snntorch import backprop\n",
        "from snntorch import functional as SF\n",
        "from snntorch import utils\n",
        "from snntorch import spikeplot as splt\n",
        "\n",
        "import torch\n",
        "import torch.nn as nn\n",
        "from torch.utils.data import DataLoader\n",
        "from torchvision import datasets, transforms\n",
        "import torch.nn.functional as F\n",
        "\n",
        "import matplotlib.pyplot as plt\n",
        "import numpy as np\n",
        "import itertools"
      ]
    },
    {
      "cell_type": "markdown",
      "metadata": {
        "id": "gt2xMbLY9dVE"
      },
      "source": [
        "# 1. 替代梯度下降"
      ]
    },
    {
      "cell_type": "markdown",
      "metadata": {
        "id": "zJddJWoa0GT6"
      },
      "source": [
        "[教程 5](https://snntorch.readthedocs.io/en/latest/tutorials/index.html)提出了**死神经元的问题**，这是因为尖峰的不可微分性：\n",
        "\n",
        "$$S[t] = \\Theta(U[t] - U_{\\rm thr}) \\tag{1}$$\n",
        "$$\\frac{\\partial S}{\\partial U} = \\delta(U - U_{\\rm thr}) \\in \\{0, \\infty\\} \\tag{2}$$\n",
        "\n",
        "其中 $\\Theta(\\cdot)$ 是单位阶跃函数，$\\delta(\\cdot)$ 是狄拉克-德尔塔 (Dirac-Delta) 函数。我们之前曾使用阈值偏移 *ArcTangent* 函数的梯度来解决这个问题。\n",
        "\n",
        "其他常用的平滑函数包括 sigmoid 函数或快速 sigmoid 函数。sigmoidal 类型的函数要进行移位，以便以阈值 $U_{rm thr}$ 为中心。将膜电位的过驱动定义为 $U_{OD} = U - U_{\\rm thr}$：\n",
        "\n",
        "$$\\tilde{S} = \\frac{U_{OD}}{1+k|U_{OD}|} \\tag{3}$$\n",
        "$$\\frac{\\partial \\tilde{S}}{\\partial U} = \\frac{1}{(k|U_{OD}|+1)^2}\\tag{4}$$\n",
        "\n",
        "其中，$k$ 用来调节代替梯度函数的平滑程度，并被视为一个超参数。随着 $k$ 的增加，近似值会向 $(2)$ 中的原始导数收敛：\n",
        "\n",
        "$$\\frac{\\partial \\tilde{S}}{\\partial U} \\Bigg|_{k \\rightarrow \\infty} = \\delta(U-U_{\\rm thr})$$\n",
        "\n",
        "\n",
        "<center>\n",
        "<img src='https://github.com/jeshraghian/snntorch/blob/master/docs/_static/img/examples/tutorial6/surrogate.png?raw=true' width=\"800\">\n",
        "</center>\n",
        "\n",
        "总结一下：\n",
        "\n",
        "+ **前向传递**\n",
        "  - 确定 $(1)$ 中的单位跃迁函数的偏移量 $S$\n",
        "  - 存储 $U$ 以备后向运算时使用\n",
        "+ **后向传递**\n",
        "  - 将 $U$ 输入 $(4)$ 以计算导数项\n",
        "\n",
        "与[教程 5](https://snntorch.readthedocs.io/en/latest/tutorials/index.html)中使用的 *ArcTangent* 方法相同、快速 sigmoid 的梯度函数 可以在 泄漏整合发放（LIF）的神经元模型中超越 Dirac-Delta 函数："
      ]
    },
    {
      "cell_type": "code",
      "execution_count": 3,
      "metadata": {
        "id": "5lqpuT--bZmJ"
      },
      "outputs": [],
      "source": [
        "# Leaky neuron model, overriding the backward pass with a custom function\n",
        "class LeakySigmoidSurrogate(nn.Module):\n",
        "  def __init__(self, beta, threshold=1.0, k=25):\n",
        "\n",
        "      # Leaky_Surrogate is defined in the previous tutorial and not used here\n",
        "      super(Leaky_Surrogate, self).__init__()\n",
        "\n",
        "      # initialize decay rate beta and threshold\n",
        "      self.beta = beta\n",
        "      self.threshold = threshold\n",
        "      self.surrogate_func = self.FastSigmoid.apply\n",
        "\n",
        "  # the forward function is called each time we call Leaky\n",
        "  def forward(self, input_, mem):\n",
        "    spk = self.surrogate_func((mem-self.threshold))  # call the Heaviside function\n",
        "    reset = (spk - self.threshold).detach()\n",
        "    mem = self.beta * mem + input_ - reset\n",
        "    return spk, mem\n",
        "\n",
        "  # Forward pass: Heaviside function\n",
        "  # Backward pass: Override Dirac Delta with gradient of fast sigmoid\n",
        "  @staticmethod\n",
        "  class FastSigmoid(torch.autograd.Function):\n",
        "    @staticmethod\n",
        "    def forward(ctx, mem, k=25):\n",
        "        ctx.save_for_backward(mem) # store the membrane potential for use in the backward pass\n",
        "        ctx.k = k\n",
        "        out = (mem > 0).float() # Heaviside on the forward pass: Eq(1)\n",
        "        return out\n",
        "\n",
        "    @staticmethod\n",
        "    def backward(ctx, grad_output):\n",
        "        (mem,) = ctx.saved_tensors  # retrieve membrane potential\n",
        "        grad_input = grad_output.clone()\n",
        "        grad = grad_input / (ctx.k * torch.abs(mem) + 1.0) ** 2  # gradient of fast sigmoid on backward pass: Eq(4)\n",
        "        return grad, None"
      ]
    },
    {
      "cell_type": "markdown",
      "metadata": {
        "id": "4aQvFG7ajpzU"
      },
      "source": [
        "更妙的是，所有这些都可以通过使用 snnTorch 的内置模块 `snn.surrogate` 来简化，其中来自 $(4)$ 的 $k$ 表示 `slope`。代梯度作为参数传递到 `spike_grad` 中："
      ]
    },
    {
      "cell_type": "code",
      "execution_count": 4,
      "metadata": {
        "id": "2dCWD_qajyLw"
      },
      "outputs": [],
      "source": [
        "spike_grad = surrogate.fast_sigmoid(slope=25)\n",
        "beta = 0.5\n",
        "\n",
        "lif1 = snn.Leaky(beta=beta, spike_grad=spike_grad)"
      ]
    },
    {
      "cell_type": "markdown",
      "metadata": {
        "id": "Ffn7D6omkj5r"
      },
      "source": [
        "要探索其他可用的代梯度函数，[请查看此处的文档。](https://snntorch.readthedocs.io/en/latest/snntorch.surrogate.html)"
      ]
    },
    {
      "cell_type": "markdown",
      "metadata": {
        "id": "Wgzf83HE2BeB"
      },
      "source": [
        "# 2. 设置 卷积脉冲神经网络（CSNN）\n",
        "## 2.1 设置数据加载器"
      ]
    },
    {
      "cell_type": "code",
      "execution_count": 5,
      "metadata": {
        "id": "pxO32dntlOB2"
      },
      "outputs": [],
      "source": [
        "# dataloader arguments\n",
        "batch_size = 128\n",
        "data_path='/data/mnist'\n",
        "\n",
        "dtype = torch.float\n",
        "device = torch.device(\"cuda\") if torch.cuda.is_available() else torch.device(\"cpu\")"
      ]
    },
    {
      "cell_type": "code",
      "execution_count": 6,
      "metadata": {
        "id": "pE7eGTnulSBA"
      },
      "outputs": [],
      "source": [
        "# Define a transform\n",
        "transform = transforms.Compose([\n",
        "            transforms.Resize((28, 28)),\n",
        "            transforms.Grayscale(),\n",
        "            transforms.ToTensor(),\n",
        "            transforms.Normalize((0,), (1,))])\n",
        "\n",
        "mnist_train = datasets.MNIST(data_path, train=True, download=True, transform=transform)\n",
        "mnist_test = datasets.MNIST(data_path, train=False, download=True, transform=transform)\n",
        "\n",
        "# Create DataLoaders\n",
        "train_loader = DataLoader(mnist_train, batch_size=batch_size, shuffle=True, drop_last=True)\n",
        "test_loader = DataLoader(mnist_test, batch_size=batch_size, shuffle=True, drop_last=True)"
      ]
    },
    {
      "cell_type": "markdown",
      "metadata": {
        "id": "6v8fBXrVlY3f"
      },
      "source": [
        "## 2.2 定义网络\n",
        "\n",
        "使用的卷积网络结构是：`12C5-MP2-64C5-MP2-1024FC10`\n",
        "\n",
        "- `12C5` 是一个  5 $\\times$ 5 的卷积核，有 12 个滤波器\n",
        "- `MP2` 是一个 2 $\\times$ 2 最大池化函数\n",
        "- `1024FC10` 是一个全连接层，将 1,024 个神经元映射到 10 个输出\n",
        "\n"
      ]
    },
    {
      "cell_type": "code",
      "execution_count": 7,
      "metadata": {
        "id": "foos_NlopDrb"
      },
      "outputs": [],
      "source": [
        "# neuron and simulation parameters\n",
        "spike_grad = surrogate.fast_sigmoid(slope=25)\n",
        "beta = 0.5\n",
        "num_steps = 50"
      ]
    },
    {
      "cell_type": "code",
      "execution_count": 8,
      "metadata": {
        "id": "X4sd8PDSlGZb"
      },
      "outputs": [],
      "source": [
        "# Define Network\n",
        "class Net(nn.Module):\n",
        "    def __init__(self):\n",
        "        super().__init__()\n",
        "\n",
        "        # Initialize layers\n",
        "        self.conv1 = nn.Conv2d(1, 12, 5)\n",
        "        self.lif1 = snn.Leaky(beta=beta, spike_grad=spike_grad)\n",
        "        self.conv2 = nn.Conv2d(12, 64, 5)\n",
        "        self.lif2 = snn.Leaky(beta=beta, spike_grad=spike_grad)\n",
        "        self.fc1 = nn.Linear(64*4*4, 10)\n",
        "        self.lif3 = snn.Leaky(beta=beta, spike_grad=spike_grad)\n",
        "\n",
        "    def forward(self, x):\n",
        "\n",
        "        # Initialize hidden states and outputs at t=0\n",
        "        mem1 = self.lif1.init_leaky()\n",
        "        mem2 = self.lif2.init_leaky()\n",
        "        mem3 = self.lif3.init_leaky()\n",
        "\n",
        "        cur1 = F.max_pool2d(self.conv1(x), 2)\n",
        "        spk1, mem1 = self.lif1(cur1, mem1)\n",
        "\n",
        "        cur2 = F.max_pool2d(self.conv2(spk1), 2)\n",
        "        spk2, mem2 = self.lif2(cur2, mem2)\n",
        "\n",
        "        cur3 = self.fc1(spk2.view(batch_size, -1))\n",
        "        spk3, mem3 = self.lif3(cur3, mem3)\n",
        "        return spk3, mem3"
      ]
    },
    {
      "cell_type": "markdown",
      "metadata": {
        "id": "HVn3aYAUnWqH"
      },
      "source": [
        "在上一教程中，网络被封装在一个类中，如上图所示。\n",
        "随着网络复杂性的增加，这将增加大量的模板代码，我们可能希望避免这种情况。另外，也可以使用 `nn.Sequential` 方法。\n",
        "\n",
        "> 注意：下面的代码块模拟的是单个时间步长，需要单独的 for 循环。"
      ]
    },
    {
      "cell_type": "code",
      "execution_count": 9,
      "metadata": {
        "id": "AoYBY89angvp"
      },
      "outputs": [],
      "source": [
        "#  Initialize Network\n",
        "net = nn.Sequential(nn.Conv2d(1, 12, 5),\n",
        "                    nn.MaxPool2d(2),\n",
        "                    snn.Leaky(beta=beta, spike_grad=spike_grad, init_hidden=True),\n",
        "                    nn.Conv2d(12, 64, 5),\n",
        "                    nn.MaxPool2d(2),\n",
        "                    snn.Leaky(beta=beta, spike_grad=spike_grad, init_hidden=True),\n",
        "                    nn.Flatten(),\n",
        "                    nn.Linear(64*4*4, 10),\n",
        "                    snn.Leaky(beta=beta, spike_grad=spike_grad, init_hidden=True, output=True)\n",
        "                    ).to(device)"
      ]
    },
    {
      "cell_type": "markdown",
      "metadata": {
        "id": "7Qgw1dRmpOlo"
      },
      "source": [
        "`init_hidden` 参数用来初始化隐藏状态（这里是膜电位），这可以作为实例变量以降低代码复杂性。\n",
        "\n",
        "如果激活了 `init_hidden`，膜电位就不会显式地返回给用户，从而确保只有输出尖峰会按顺序通过由 `nn.Sequential` 封装的层。\n",
        "\n",
        "要获得最后一层的输出，请设置参数`output=True`，这使得最后一层也能够返回神经元的尖峰和膜电位响应。"
      ]
    },
    {
      "cell_type": "markdown",
      "metadata": {
        "id": "A-bCSQmBstvd"
      },
      "source": [
        "## 2.3 前向传递\n",
        "\n",
        "模拟持续时间`num_steps`的前向传播如下所示："
      ]
    },
    {
      "cell_type": "code",
      "execution_count": 10,
      "metadata": {
        "id": "IxPPMND-pMxE"
      },
      "outputs": [],
      "source": [
        "data, targets = next(iter(train_loader))\n",
        "data = data.to(device)\n",
        "targets = targets.to(device)\n",
        "\n",
        "for step in range(num_steps):\n",
        "    spk_out, mem_out = net(data)"
      ]
    },
    {
      "cell_type": "markdown",
      "metadata": {
        "id": "C3PxtCobuH_e"
      },
      "source": [
        "将其包装在一个函数中，记录随时间变化的膜电位和尖峰响应："
      ]
    },
    {
      "cell_type": "code",
      "execution_count": 11,
      "metadata": {
        "id": "ykdnD3tRuHcs"
      },
      "outputs": [],
      "source": [
        "def forward_pass(net, num_steps, data):\n",
        "  mem_rec = []\n",
        "  spk_rec = []\n",
        "  utils.reset(net)  # resets hidden states for all LIF neurons in net\n",
        "\n",
        "  for step in range(num_steps):\n",
        "      spk_out, mem_out = net(data)\n",
        "      spk_rec.append(spk_out)\n",
        "      mem_rec.append(mem_out)\n",
        "\n",
        "  return torch.stack(spk_rec), torch.stack(mem_rec)"
      ]
    },
    {
      "cell_type": "code",
      "execution_count": 12,
      "metadata": {
        "id": "unJrx3pXcXii"
      },
      "outputs": [],
      "source": [
        "spk_rec, mem_rec = forward_pass(net, num_steps, data)"
      ]
    },
    {
      "cell_type": "markdown",
      "metadata": {
        "id": "zqJdfllYbc16"
      },
      "source": [
        "# 3. 训练循环"
      ]
    },
    {
      "cell_type": "markdown",
      "metadata": {
        "id": "x-kquOWLY1Jo"
      },
      "source": [
        "## 3.1 损失函数使用 snn.Functional"
      ]
    },
    {
      "cell_type": "markdown",
      "metadata": {
        "id": "MlA56BgOYq1D"
      },
      "source": [
        "在之前的教程中，使用输出神经元的膜电位与目标之间的交叉熵损失来训练网络。\n",
        "\n",
        "这次，每个神经元的尖峰总数将用于计算交叉熵。\n",
        "\n",
        "`snn.function`模块中包含各种损失函数，类似于 PyTorch 中的 `torch.nn.function`。\n",
        "\n",
        "这些函数混合使用交叉熵和均方误差，可以应用于尖峰或膜电位，以训练 速率编码 或 延迟编码 的网络。\n",
        "\n",
        "下面的方法将交叉熵损失应用于输出尖峰计数，以便训练速率编码网络："
      ]
    },
    {
      "cell_type": "code",
      "execution_count": 13,
      "metadata": {
        "id": "UZ2BM6d6a11l"
      },
      "outputs": [],
      "source": [
        "# already imported snntorch.functional as SF\n",
        "loss_fn = SF.ce_rate_loss()"
      ]
    },
    {
      "cell_type": "markdown",
      "metadata": {
        "id": "q39HCIeOa4fC"
      },
      "source": [
        "尖峰的记录作为第一个参数传递给`loss_fn`，目标神经元索引作为第二个参数传递以生成损失。 [该文档提供了更多信息和示例。](https://snntorch.readthedocs.io/en/latest/snntorch.function.html#snntorch.function.ce_rate_loss)"
      ]
    },
    {
      "cell_type": "code",
      "execution_count": 14,
      "metadata": {
        "id": "xEVzMvujcjsE"
      },
      "outputs": [
        {
          "name": "stdout",
          "output_type": "stream",
          "text": [
            "The loss from an untrained network is 2.303\n"
          ]
        }
      ],
      "source": [
        "loss_val = loss_fn(spk_rec, targets)\n",
        "\n",
        "print(f\"The loss from an untrained network is {loss_val.item():.3f}\")"
      ]
    },
    {
      "cell_type": "markdown",
      "metadata": {
        "id": "HS_zeb5mbqjw"
      },
      "source": [
        "## 3.2 精度使用 snn.Functional\n",
        "\n",
        "`SF.accuracy_rate()` 函数是以预测输出尖峰和实际目标作为参数。`accuracy_rate` 假设使用的是速率代码来解释输出，方法是检查尖峰计数最高的神经元的索引是否与目标索引相匹配。"
      ]
    },
    {
      "cell_type": "code",
      "execution_count": 15,
      "metadata": {
        "id": "yq7_rly0c9b4"
      },
      "outputs": [
        {
          "name": "stdout",
          "output_type": "stream",
          "text": [
            "The accuracy of a single batch using an untrained network is 13.281%\n"
          ]
        }
      ],
      "source": [
        "acc = SF.accuracy_rate(spk_rec, targets)\n",
        "\n",
        "print(f\"The accuracy of a single batch using an untrained network is {acc*100:.3f}%\")"
      ]
    },
    {
      "cell_type": "markdown",
      "metadata": {
        "id": "r4Z6bnqCdL50"
      },
      "source": [
        "由于上述函数只返回单批数据的准确度，因此可以写一个函数返回整个 DataLoader 对象的精确度："
      ]
    },
    {
      "cell_type": "code",
      "execution_count": 16,
      "metadata": {
        "id": "IqxDKFvrdXuF"
      },
      "outputs": [],
      "source": [
        "def batch_accuracy(train_loader, net, num_steps):\n",
        "  with torch.no_grad():\n",
        "    total = 0\n",
        "    acc = 0\n",
        "    net.eval()\n",
        "\n",
        "    train_loader = iter(train_loader)\n",
        "    for data, targets in train_loader:\n",
        "      data = data.to(device)\n",
        "      targets = targets.to(device)\n",
        "      spk_rec, _ = forward_pass(net, num_steps, data)\n",
        "\n",
        "      acc += SF.accuracy_rate(spk_rec, targets) * spk_rec.size(1)\n",
        "      total += spk_rec.size(1)\n",
        "\n",
        "  return acc/total"
      ]
    },
    {
      "cell_type": "code",
      "execution_count": 17,
      "metadata": {
        "id": "_u43hKAvefWM"
      },
      "outputs": [
        {
          "name": "stdout",
          "output_type": "stream",
          "text": [
            "The total accuracy on the test set is: 9.79%\n"
          ]
        }
      ],
      "source": [
        "test_acc = batch_accuracy(test_loader, net, num_steps)\n",
        "\n",
        "print(f\"The total accuracy on the test set is: {test_acc * 100:.2f}%\")"
      ]
    },
    {
      "cell_type": "markdown",
      "metadata": {
        "id": "F1pzWXlsYoIu"
      },
      "source": [
        "## 3.3 训练循环"
      ]
    },
    {
      "cell_type": "markdown",
      "metadata": {
        "id": "KAUDYl3gf0G-"
      },
      "source": [
        "以下训练循环在性质上与之前的教程相似"
      ]
    },
    {
      "cell_type": "code",
      "execution_count": 18,
      "metadata": {
        "id": "y_VQ9es-gSO3"
      },
      "outputs": [
        {
          "name": "stdout",
          "output_type": "stream",
          "text": [
            "Iteration 0, Test Acc: 9.78%\n",
            "\n",
            "Iteration 50, Test Acc: 93.27%\n",
            "\n",
            "Iteration 100, Test Acc: 94.90%\n",
            "\n",
            "Iteration 150, Test Acc: 95.34%\n",
            "\n",
            "Iteration 200, Test Acc: 96.54%\n",
            "\n",
            "Iteration 250, Test Acc: 97.18%\n",
            "\n",
            "Iteration 300, Test Acc: 97.39%\n",
            "\n",
            "Iteration 350, Test Acc: 97.59%\n",
            "\n",
            "Iteration 400, Test Acc: 97.39%\n",
            "\n",
            "Iteration 450, Test Acc: 96.82%\n",
            "\n"
          ]
        }
      ],
      "source": [
        "optimizer = torch.optim.Adam(net.parameters(), lr=1e-2, betas=(0.9, 0.999))\n",
        "num_epochs = 1\n",
        "loss_hist = []\n",
        "test_acc_hist = []\n",
        "counter = 0\n",
        "\n",
        "# Outer training loop\n",
        "for epoch in range(num_epochs):\n",
        "\n",
        "    # Training loop\n",
        "    for data, targets in iter(train_loader):\n",
        "        data = data.to(device)\n",
        "        targets = targets.to(device)\n",
        "\n",
        "        # forward pass\n",
        "        net.train()\n",
        "        spk_rec, _ = forward_pass(net, num_steps, data)\n",
        "\n",
        "        # initialize the loss & sum over time\n",
        "        loss_val = loss_fn(spk_rec, targets)\n",
        "\n",
        "        # Gradient calculation + weight update\n",
        "        optimizer.zero_grad()\n",
        "        loss_val.backward()\n",
        "        optimizer.step()\n",
        "\n",
        "        # Store loss history for future plotting\n",
        "        loss_hist.append(loss_val.item())\n",
        "\n",
        "        # Test set\n",
        "        if counter % 50 == 0:\n",
        "          with torch.no_grad():\n",
        "              net.eval()\n",
        "\n",
        "              # Test set forward pass\n",
        "              test_acc = batch_accuracy(test_loader, net, num_steps)\n",
        "              print(f\"Iteration {counter}, Test Acc: {test_acc * 100:.2f}%\\n\")\n",
        "              test_acc_hist.append(test_acc.item())\n",
        "\n",
        "        counter += 1"
      ]
    },
    {
      "cell_type": "markdown",
      "metadata": {
        "id": "TjRPDFWxj2eS"
      },
      "source": [
        "尽管选择了一些相当通用的值和架构，但考虑到短暂的训练运行，测试集的准确性应该具有相当的可观的！"
      ]
    },
    {
      "cell_type": "markdown",
      "metadata": {
        "collapsed": false,
        "id": "HxU7P7xFpko3",
        "pycharm": {
          "name": "#%% md\n"
        }
      },
      "source": [
        "# 4. 结果\n",
        "## 4.1 绘图测试准确度"
      ]
    },
    {
      "cell_type": "code",
      "execution_count": 19,
      "metadata": {
        "id": "_Pk_EScnpkpj",
        "pycharm": {
          "name": "#%%\n"
        }
      },
      "outputs": [
        {
          "data": {
            "image/png": "[encoded data removed]",
            "text/plain": [
              "<Figure size 640x480 with 1 Axes>"
            ]
          },
          "metadata": {},
          "output_type": "display_data"
        }
      ],
      "source": [
        "# Plot Loss\n",
        "fig = plt.figure(facecolor=\"w\")\n",
        "plt.plot(test_acc_hist)\n",
        "plt.title(\"Test Set Accuracy\")\n",
        "plt.xlabel(\"Epoch\")\n",
        "plt.ylabel(\"Accuracy\")\n",
        "plt.show()"
      ]
    },
    {
      "cell_type": "markdown",
      "metadata": {
        "id": "nYFamUJLkVY3"
      },
      "source": [
        "## 4.2 尖峰计数器"
      ]
    },
    {
      "cell_type": "markdown",
      "metadata": {
        "id": "MDE3ms9ulo-t"
      },
      "source": [
        "对一批数据前向运行传递以获得尖峰和膜读数"
      ]
    },
    {
      "cell_type": "code",
      "execution_count": 20,
      "metadata": {
        "id": "dqIjaw1kk4-6"
      },
      "outputs": [],
      "source": [
        "spk_rec, mem_rec = forward_pass(net, num_steps, data)"
      ]
    },
    {
      "cell_type": "markdown",
      "metadata": {
        "id": "n4QiJx2HlkMH"
      },
      "source": [
        "修改 `idx` 允许索引模拟小批量中的各种样本。 可以使用`splt.spike_count`探索几个不同样本的尖峰行为！\n",
        "\n",
        "> 注意：如果您在桌面上本地运行笔记本，请取消注释下面的行并修改 ffmpeg.exe 的路径\n"
      ]
    },
    {
      "cell_type": "code",
      "execution_count": 21,
      "metadata": {
        "id": "4HcwxfC6kfy0"
      },
      "outputs": [
        {
          "name": "stdout",
          "output_type": "stream",
          "text": [
            "The target label is: 9\n"
          ]
        },
        {
          "data": {
            "text/html": [
              "<video width=\"1200\" height=\"700\" controls autoplay loop>\n",
              "  <source type=\"video/mp4\" src=\"data:video/mp4;base64,AAAAIGZ0eXBNNFYgAAACAE00ViBpc29taXNvMmF2YzEAAAAIZnJlZQAAgKxtZGF0AAACrwYF//+r\n",
              "3EXpvebZSLeWLNgg2SPu73gyNjQgLSBjb3JlIDE2NCByMzEwNyBhOGI2OGViIC0gSC4yNjQvTVBF\n",
              "Ry00IEFWQyBjb2RlYyAtIENvcHlsZWZ0IDIwMDMtMjAyMyAtIGh0dHA6Ly93d3cudmlkZW9sYW4u\n",
              "b3JnL3gyNjQuaHRtbCAtIG9wdGlvbnM6IGNhYmFjPTEgcmVmPTMgZGVibG9jaz0xOjA6MCBhbmFs\n",
              "eXNlPTB4MzoweDExMyBtZT1oZXggc3VibWU9NyBwc3k9MSBwc3lfcmQ9MS4wMDowLjAwIG1peGVk\n",
              "X3JlZj0xIG1lX3JhbmdlPTE2IGNocm9tYV9tZT0xIHRyZWxsaXM9MSA4eDhkY3Q9MSBjcW09MCBk\n",
              "ZWFkem9uZT0yMSwxMSBmYXN0X3Bza2lwPTEgY2hyb21hX3FwX29mZnNldD0tMiB0aHJlYWRzPTIy\n",
              "IGxvb2thaGVhZF90aHJlYWRzPTMgc2xpY2VkX3RocmVhZHM9MCBucj0wIGRlY2ltYXRlPTEgaW50\n",
              "ZXJsYWNlZD0wIGJsdXJheV9jb21wYXQ9MCBjb25zdHJhaW5lZF9pbnRyYT0wIGJmcmFtZXM9MyBi\n",
              "X3B5cmFtaWQ9MiBiX2FkYXB0PTEgYl9iaWFzPTAgZGlyZWN0PTEgd2VpZ2h0Yj0xIG9wZW5fZ29w\n",
              "PTAgd2VpZ2h0cD0yIGtleWludD0yNTAga2V5aW50X21pbj0yNSBzY2VuZWN1dD00MCBpbnRyYV9y\n",
              "ZWZyZXNoPTAgcmNfbG9va2FoZWFkPTQwIHJjPWNyZiBtYnRyZWU9MSBjcmY9MjMuMCBxY29tcD0w\n",
              "LjYwIHFwbWluPTAgcXBtYXg9NjkgcXBzdGVwPTQgaXBfcmF0aW89MS40MCBhcT0xOjEuMDAAgAAA\n",
              "EF1liIQAI//+9Sf4FNQS/Evha2Ht1LdJMNFynbNOTeAAAAMAAAMAAAMAAAMB0SYkvCsnbNt1AAAD\n",
              "AAADASYAAqIACkAARjbaWTiup1ADRWuP5jkBGY1ocrk6KcdQFTsL+kJ6VeYh13HMs+rYkd99oGsw\n",
              "o7Bd5C77Cil9gUxCPL7BrlIq6/c5JdeQ6in3/H5hAKNtwAVDLNnDCj8I0dSvMw4/INwwayHKA+VO\n",
              "oHUshnc2AKm2QOPr1m4VdkMf5AQX75ImTa13EAsuXCe1DYQGinKIPC2ZZlHH6i1htw+Of9FDizb1\n",
              "OjoOVnEc5qF8bb3TCGpJsTUPAce05AGFBfNa+A9YnXzxYsvviHWKeqJMuCm51yHnAjlaredb7xcS\n",
              "tZnM6J06D1ec3Xp51KBCFYAD9l8AJDQY3gQOqnCFg144Ls+3gVNjUAiZzOeA4aolCKwFKkMMBpsE\n",
              "JOcXgsSk4p0AEBP1u4PxJbdLVSMJ4bVJ/QPM7BfH1ocgup6gkm9yDM+Ps9k1kPjskYQolcVv5ma0\n",
              "yw2NONu9NHDt2IP08+ayyYcDzh2Z34Warqwfj32mCQipFCsLFvjNp1ggWv1L7y0TWhtePZhyhPOa\n",
              "EQkuz6QDffIdyhVABNr7trnWtkeT4AAESwAAmDgZpEYCdo2wzqXxiYo81B9NqyMr6nVdvNUAqaOa\n",
              "IqaXlQaGAAypOLtwFEqalUpL9zhTmzCyDk72Rp9OLjmv3FU2CCVigt5q5axkqoZFu4Cn878KqMdr\n",
              "FollHlu3qUBJVODLSIAAz/EH6jVn7BWN+bGiqELr2w+0v4AAa94AFfGqjbZj9YNG8YOdmkRxwPKU\n",
              "D7XK8fPlb8Usr3NEV7UDptWrmTuA735ATPtLc03AbMSqobATHiZtKtwK1ihYdI9bbQ+LW4wABvn3\n",
              "Vc6b+gSrK3TGRB4CeL9oIk+yhOb5WxT0d4j3VL14RxdvC2bjLMspiess4/bpvalgMCDywqjTPCd7\n",
              "pT2/TMFt/Ibs3n1xBzugAc7cfn/ZQorAAPknY1HqVQeQ4dIAUFGmO8V98brISfbP9GS6F//Ff5p9\n",
              "ETg4F6o/a1WNydhH8F6TfR5KzBQi8Sh7eFihd+qD71Yy8ynFPkN4Bws7mm/58blGO6QzIoHIL+fy\n",
              "28T0bkzU0GoUzMWNm6PanKGZ3ngFabV52Ggs3IfZSQqKIRBQDkG4woJpGabJte8i8W9m55a5VkoW\n",
              "VP7R/0qfv8W3ARudAMZf1xCzksvp814FWpakRUmhvgD7v7P+y8D34vOYolxjl1Mb1ULAvw6VvfYr\n",
              "p1lE08I2v288qYHgK1nUshBBw3KWaHIbnJnrO5oG+OSnktJ7L8vB6fpQAAw5/nklKLmoQUBhgLBV\n",
              "XrVEVxjcuYtPve7OIkDiadaRFSTnd/969wHXWsHsUrl6+IGcQVysLLasEz+27b8O6injXBzR3uAk\n",
              "Za4b1ZyQ6j9xyaWSMzKmyGmmD8+xFA37x2QOfAOb1x6usR0AWZPEmbpbYx1LwSGzmqQLXWwluKnc\n",
              "U/APiWASfHWySlAABlTqePNkxBge1sNzEIi+RDUmFabSgO6uiZTLwyjlPd6FvGZVrIq2rJag7TSR\n",
              "AB+F+1J8jfKNm/1Leqbz9h+LQx45BLVLeVRiZB6I+hmhDj+WTsp0VLA8ENibddOOapKNtjJ9HvEq\n",
              "zBr2WlMJC1ooDVT1Lv/8/O7PO8Ij2x89cWf/Jq+nBOguAADbR9L93/BQ/vYnhlSX8Q479mZzpi1x\n",
              "9NnDiwuWWMUW0vPzebSxp7wf+ju1g920jTh2NA0Ii92QaCzzfwDZTiJ8ZvDPD1rL9sDtM5JdTzom\n",
              "H3J2bbht9pgRKdcfKOPxYgovvUI9RUPlC552bjU6dBLXUL5JEkJsiC+dcdHOQR5OPWk0vlMcgx3U\n",
              "jNdzTCmfOHYulg6UJV5ZBWJj97ZmRriztoJi1xHBA8qa0IJBXlw9VQEK/dMI+3JJqpsVx7gMHw2Z\n",
              "60DQmilpwAFhn4feDoEZ2Vgum9E28INJMKkc6tM+teLcBQDub7f6sRA4OB4f1N52hZm81t808v4Z\n",
              "88QTg2n18CItO+fw4skJ+zgXfSZsLO3SOO1yWtoHkdPJerWWOQVJLAQ9OgAJufv1mrrxvP6EI/qc\n",
              "AAGZNZXClkeZnpTn3PyyZmClLxian0hUmBsBX0U13MPqDDZOTAA39xwftgANPTaGtJKc4XSStv5u\n",
              "7a58ZnrcTGEjJa9CpziofVYt2pvDsexX6mQJoV1YLmSS32hTrRc2T9QX64f5rkfmx86waad3P56/\n",
              "1ifFg7numiCJOC3huyyIvQ9NYc49DiHo7l1e4AC/7y9l/70cxKAAD9UAB5esdyfl58nE36xEjo2G\n",
              "Z9u7ICJbWJzWHJloI22/bT8TqHb2O4olxJctRZhn8SF2x3F2E7tueio1ZUbFRwIUMRWo9df4THRr\n",
              "dVhOCs/p/eRgcYi8BvN/rfQo/YPuElBszfVhshyG2AA5rwsvJHy9IsYfya8eBiA6WxPaUT8vjItY\n",
              "hhqMMp3UVuc9zER8rgR+s/vOKn4wbMlAAHQ/mx1+8UAACFxgALAYRUhstppt5vcHuddsbvTS0oxv\n",
              "nMjy4IVl0LktYcZnFwAJ7tJn+aPyBfSM4xQtQAMg7Tl3Yj6aYaaBYMCsLe8Cf7KG7m0aqzlhXzin\n",
              "5G99DN6TPtWd3ky3Ahs+KAOv9vIUgiAzAAV5hHNk/AAK9oAF4GkrvQsDthHRDIqiglJv9xbbepJN\n",
              "7LjlI6mfjIR0p2Rv3kq27gTqqWNK9fy1wVaLegmtIlO5BF7YOQiSzaMYl8JrFOVHTmQCfp7E7mIA\n",
              "AYMrX6eZCdsjjlvIIvBDjxuo0+plb2X63d5NgWp7fbp1B5cSe+NJ2z2BT/I7DrSChRWiaAAjHanp\n",
              "uF7RV//5ZXEr3ok7a3vRMX5uxm+fl57hT3D7PQfehngrIExvxOoPMilPZuVBsLCYOEu6QRwURDs9\n",
              "AADLxPwtXLWe4AkUjmaFxmUAAOCeI+GpXvGcMhxbQ1OehMXF/skFOf73fCEQ519bVQkHyqjXlXHT\n",
              "1PL3CluvDMkP3LfBZ+EasTucTxhn3DyO4KVo36ucxbJ94GX8SCG9FQVIyoVz77sZPDO1KPPkqQBt\n",
              "kbKZmeNZ8JQuSqUTORhxGIbWaA5/+aMUps3kcAoQAfkBH00C+T7Jblp9OfMqVWj1iLLt75FXTGMZ\n",
              "dGrV8gVRtZnfE4ofMRQBse7NyLoYf3BXzPIOye31y7KVD6gaj8WL4bJ3wbybcA9tuvREqVRDfLqI\n",
              "B7fck41B9gYsOYg1l5zhb3AlRKZH0MuMPf83jMgdOolahXjE7ZChGCIx/5kzbFfwMVK5Ze5Z+ooW\n",
              "FAzXbugx+XrTyKSnqxSUy51wfCy/QyH3SvHk5SPX8AsTyjN3HE+l1UgwnZh81Y607E1ZtLOfzdCR\n",
              "FR8RUq8w+skYPQ1AArwPll1ynZ5WMjqu1CDuOFGwR7VrstUF+qw8JLagfQaXYmv9/e63NFIAsq9V\n",
              "+HHuLZAkON12OklfmQge2hhkucr7HjK0ABzwyXUJg4V4ogBTJwzGjIdNyWuuZ9LHykQlGKS9pjuC\n",
              "A0q9Tc7xtmXfAoRQy+W9QRPnUtm0pwobX8I5UuSJ4ZOrCPuGCnOCpyPwMvuE1I/TINEV2NcfhNOj\n",
              "m5EarDPdfNMiH8TPmXdxmE1XuC1l54wwPItWvj3MjN38jgQWitkJdEU0lQsy3/J71XpfjWOR9JfO\n",
              "Y+VJ1eDbbXHSLYd9n68q1MNIPaV4dFGcYlgF+IRud4dBIrPr0z+W9gvkpgsn/+IORJLl0F0UIHuE\n",
              "q/3Fh3yvsZ4cbZk/1jQU6j35gThfgUiWpWNDITO39Gn/QBEGO9O3f+ynndJqSlzoQcfc83wvZtbQ\n",
              "HD7NV4CG3KFoitnvNtQOAo4AD/+bmDCY2XwaZSRdBToLxp6EUOBxV7DQSaqjskZQXAs9OWrbdjdq\n",
              "PtyX5XQ9zQ3qPpQ5/Ji5ce6UigAvZ+PZXYbqjFoM0Hvoh6LeSBvFKYaG06k9AAK68r2UCD64VGAi\n",
              "Yhy+vZhes8hHi2SONoegbMaOboN8U3zC49d1Z0pbOuXGHWAHMp0C/PxSWceOWhsHbTsL8JasItzf\n",
              "QnhoMzx3JLiozJbMT1Y4OXRW8myuPhSX01SDvaucd8nnRDFWhSW8aaiFkd3WYpwlkAdaoi8iA1EZ\n",
              "leRKUsV6Cw9TM3OdCkaMmfZoFe/5mXfzAvyzVQIIIGzPNL8sSEZWz2WrvNyqOD7Ny9NqZE91U+54\n",
              "X/Ebdj12/jpxfUv5ZbjhzwQyYKOO1hI56hwX2/+Rpzeyekj54dAPyVn/cWr178eQf0T9Qoa60DrV\n",
              "KZwEZ0/4zYYUEzNSkEMc6x2cdLUtuTQtrw8AAB3d9J+hTJHM1bsXKiulbTNU7M9hRNMV60LuArly\n",
              "hRWPJBq15kACPQgmmE/ASRYSCJYxOzyhICZb/Jry/Ev1Fe8CRavgwatPzS1UFFNivWSQ1xTIYefA\n",
              "nn0WCiN/rFs1Qh2ZG6+Ov8lD9apTFbobmHj1igaW0SiaHjzcE7vPGgB3KVkKoqsm99bUM3MzntLb\n",
              "cxI0FHazn4JxYq/tpZTHCKPyF0UcQYly5deot4f/9qI18ujWy14X7GNgF4OJqK/dNO+xVvfRnBU8\n",
              "QYWMAnCzjttrZbyD1hZpE2Ry8qFg8oiduVWHoYQIJRy8gwXBEQpthmh3icFChQPj/jAAFUbZSEvl\n",
              "M+lg/bSPSz84CuUYCRmHYSldgfMfP1cPG1+fZYiK474Tl9T6u3GI/zjtLC23fx4aFwfko/x4QWpg\n",
              "y+8JPcb8/mwBHm2onVzBk21w+FYqUkoS8odcBZ59IUJxnJgW1xbpmdFjIz1ZCPTwlygsv5jzqyvu\n",
              "46DI9mvsJH64ZAo5DgRBC4MSCl8zA1WWyDpa33T/d0ayEy/c+q2ViSj1mhLx8QK3b7ci252C+rug\n",
              "wRdUseqfyIEqjgueC9PK0BmXkwldPF+FPb+jHad+Z3q8V0vKRz2EpxMTVlwFtxVv4j3Xl80o61QO\n",
              "CizSGYhZy9ug0eypz3V/OY7ERp0u5/hiTSNt7QKQA9MQQVj0B11ooAIqKyD3MVD5zk+3+NBr1rAD\n",
              "HjPRre5U/bLW1hgEgrykpcB5AYQAu7zeDm32HmI2nDQTdD6nQOeHnMP3/IOQNiPdJlwvxYsVNbjU\n",
              "neUzBCvUAY54w9z1gaUybUi/cTjLfA3XOs03TfBNf+8mQpZ9Phv79/4MNM6uD6/uRm9h2lxp7AS+\n",
              "ttcwOqXTPD8YSenvx2eMArPtOhVS/y8RGSO7KlLntZhN6FiekQFs4HNSOuzW18TgduIubjtea3ar\n",
              "TFryORh2kR9TsG1pXccMXzHoFYRVgL5DS8iTk1ppcA3OQ8VXWOeLYIeFM2pMnwVQRSdbx2+wUJQA\n",
              "DF0xFA6uCCFUSB0r9eupHpic0Bx+4HnLmZjbBVwwbxvMnYvNEr5qcOFKctP1tsTUuLuKv15n1xrD\n",
              "/ib2pbGDvUrYn2sOCW0CeC+9396CgVEEvEGUptQWX/teGsgYIzzZs7z9NdpBxx7Uu4W8E75YwdHj\n",
              "i8m+eY6OSV69vXOwIwUEAmpC3NvlCyWsPKpMgAF1AAAC8EGaIWxCf/3xAAADA7mpptIH7rIALqFM\n",
              "P/3+pdkbAnSmqtSKfxftgpZvt2WA45w0oOSSe8amXyTJJlTAO88Rcd1AoP1WD5WVGhF5FiRMBXbn\n",
              "ErHSH9oenJd0pQNXUup/D7vDUiMzbxxp/YsrNpaLPJb1E9EL4iMTtuy4p9MNCTiJTeoF+zJH9LlI\n",
              "KJL6J4SrwOE/tvGpADKWGrmlFzf/25+exWqwsD2PvUvS5FIXvJKCV0YF7mtnkRz0dbYPzzOH/UDO\n",
              "Le47Z7kVJBJUO43doqArZZhXc8nUnpcfQPgnQFP3ek7rCiUrYafjWjxLRUqHP5qy26pYU5+wznVW\n",
              "gkp+YF91NsgBPYkigrTZmdjnc26fcH/fxHEquioPdm1X2IY6TewMgb4RYRhzMC7zOUWVhpEWJ98+\n",
              "dz0QKq1SvenWpjJsl46p6R0I++2CsuHQ/mWGpYzyy+gRQfA7HWZLVGLZ3NbbL0+aiNXQLY+K09BW\n",
              "vHMh3a0d1a8dVWz8LF5gqM0tOvIqt8LtIwLajQ1S+R+8duAMD/DpxBIHEbXrwUf7dLcISVPEhyOK\n",
              "zL2Q02KctDQhJYSjmwnGY1DMBL1HbtHFxloY0Zq93NEcVtR0xElz/J89eV1c4wkrT24H+gL8s/ME\n",
              "a4LOAQI7YWC/pHX8yQ9onrrEZuLeDzTNBMdJGhhDTWaKqSQQETayEKVkxVhqRA6I6PZkzPzhQ0+e\n",
              "FyRYg90RCH5xHtVpRagTlUuCFl8B3i7Zrno0vHZ9MY2n8c+OEz1/ibkIh4Brm/66sIjumtNUrVba\n",
              "TG6X7ozqY8XLEn69UqyLwl+Vq2jFUuePPJC3J+pUNcWEiaFEOdC5XwCyMBtkHESRBEyUNtJMM2LH\n",
              "436BcKVm+dytnpsCr1b6DBCfot4JCvpX0jqrfM+LDbX0KNvX1w79BjJYE42W+4BONvLbfNHFHWOh\n",
              "zocxdUoRr4GOE5DNgsr4vDLXlJ+wXr+cVSz8WprS1W5/gC23MtjKQRVHdtuAAAADD0GaQjwhkymE\n",
              "I//94QAABfkzzlABdQXRCcM/LJnMg/AttPbeLQS1yHV1X3nw5iqA+UKiufsROZiQrw9RScVCZ6Ys\n",
              "TtAUrSnbH2O8t+b7AXzyn1zFq1x9jokIEXwn93xxwoEEUVi8XakeN+2Cp6ut25jyNvjz6AGUOOwG\n",
              "zzM9MucXe7NP6kUNF7R5j2ch4M5NpKA5pXqjGmYDNPpNPH62wzUmCp31E9roZ2qWpCvU+1sC4lV/\n",
              "BQYgH0YdjDT31zLUoHpCU9cHguDILDAZyG44Nr8+OL4GXsIHe2HoDwPi62VOP11HUI5BMxrxnUu0\n",
              "e0B/2bxYoumiOfhIKlvyBDCCLjt50p839wxIB6hAlaGX9wtZd2jTYUzxI82qV9p8/XwHYLyOR1K2\n",
              "NxCtSorfx5t5SPbDgrqtvYZvEvb9cKIJFVZo31Yxu4uUnEdsMJJkvKjMWaRoUzlj7BnXebfjLbnR\n",
              "vODJmjsSOiFfOozRJXoxnDqtXD/WGLVQ37Eeyk5UcijcWs+JIwI+xFKTITO7D0wb6n3JRPA13sRO\n",
              "TolrQ/3Rdp02LDvcZYaiD6x3T5BOXuUJwYzCqa/dNJKnQSEMmjL4Ema71qlUjPRs3qMpaiFjwSAj\n",
              "7vj34QQSglHfOs8GQCAHyLI8lwM/zniAHU4iTHjuZGLgkiLt6nbB378hiyZ6T6Md+bAonn9KKO5U\n",
              "n345lC+0XVPS7WESknTCaiUfOB36BgieplyAuk9zwMVwouoFwELLWTuG3nPSNv0Jv1e1XSVEzCEe\n",
              "6FRE3GkVW2AP7SlVD8Fu+FKJ3sGRPNpiv+zesgVIZlrzhhUxAIU2DGHxstgnL7h3Aqn8PerV/coG\n",
              "jL7hiya23BacKTqeDTdDy68bFOyEPnQLz5HR3hs6r3a112mErEJ4AukI0srZnNi78+NZQgngdFub\n",
              "hxWB4FwO6GqjQcJsxndmdEmKJ57YhHFM3kJii0Zxsh4/Rz0jX2Y3vA/JNSQK8XAdxg/FHh+SZett\n",
              "ta/P3C6Pn5IbkCEvBUzPvXLb7CIbyNhA3XeCdDGRp5RFwQAAAkFBmmNJ4Q8mUwIX//6MsAAAZV2a\n",
              "VT59wQAWKfNjofK91190diEkNSHlY7PA2ywnFoi506ep0o5jz/DuJiLUNY4Vz8OL9A1j4E4IU9eB\n",
              "3nw67VuAd2qQlxXBXcLS+kcnRXqUVpRy7Q4wHQ0yBstmv4nJ1cvPixY41RlXqCjo2N5dqSf5MgSF\n",
              "W2Tx4QF35s86o9gfNp267ZHMfWuIaIWzMxuvif+QQ8ZjIwXq6U2kvJ1gDSIKhv2vMMj1kNZitHHe\n",
              "bCmEn8Th90wzZNkE9JQip+0SaYxmpaMA8qq+bHs+btxAxypw5xiHzt0L1HUJlFx6oH67V2CTTvBR\n",
              "+DslRLXNv3WQo1Rf+LLA8dwSijLAQEknSivWOXr6Cdm16bea6MTw9UT+1CaTEaHO7DJTBFYbc+iO\n",
              "kaPWJ63tu3hFCvyXluhXS+3cst7CKSjRPwm3Krd38Gszs78m6ROr5C42e0w2bnwjI9n9nXE9mpDK\n",
              "oubGfxHEnz0thgLvdliSWG4bltY6JljmhZ8u6LAyxwWrR75yucuXf+KpFO6HUH0hJSNdJiG03Ohk\n",
              "QtwmFradAzqKXyK4StdYudpq6znKzXwfQFrAP+rT7LauNl/73NmntW77UHZ1DD+7saAm54I8YzgW\n",
              "FCb/mw+Ep9NuTZeSM+HpW1F0HPEvPDOezxVze5EvkUQqfa+Qg8hJyhV4MtG3ZNSad0B64O3NbwTC\n",
              "zvqdq/qRbXNzDEXqMJMQIcJTUsgN+37fPgtOLCPIfQSY7brfbIeD4wRb8eJuAAAA40GahEnhDyZT\n",
              "Ahn//p4QAABh13sUf6JXsaKATD0MEG5AVjHFCzZbdq6kEVtBD/d5HwgvFBCbfMtMdBVM7aB9NkFf\n",
              "8+mlRiLzkubpF8oUOTo9Wub2wLEZGz10SERz8JOKG7C+n8EhFq79smYruutDNZclX6B5l/8oE8RI\n",
              "7dzmi30RodUSL05uzA0vBA0WWyZN8R3OVOSWqr1xVPAaQHp0+lWa+yuWmdrpKJAQB6prW0YpZ63f\n",
              "tMg1mJ872uBUIcgTORwzYbx4Jcl2zYoJUfALmInLVEd6C7MJBUk7EzfYAgaWAD5hAAAA1UGapknh\n",
              "DyZTBRE8M//+nhAAAGJ1z8NLD28y/4uq35uieagbKWkmg24PWxdFODszhUbr6iEslOxpMd+2Zscs\n",
              "1tVHa9QOtBme2CIHOsNA7b6y513lgaxUu57NgM/k0Nn2FtkXzO71lTuoM2wIhZ/pAiAKzHjVZcLj\n",
              "z55ADIAEvDu6OJdLIG2x+dGBXeU/dpuFPpNWgxJFGNFoJGq+2ljhku9HyVyJ4ljOFczqObYsyYxu\n",
              "7v6dzScaz31rZ7N3iigyqPM24/3ttQ2AghcoHBrrwm/jUAAYEQAAAH0BnsVqQj8AAB8MjrA4GYlU\n",
              "2xYAdwAlT7I7cUZU4zekz6ycAGEeW4VA37pUI9AHF4sptC0NfmDh7JnFCCb6Wr4ekDz7Fy+LcQGm\n",
              "/9qBPVSAQdg0yvhO5/Fi6Ipp7PkQ52eOJ1348bUrr2muS03RVeR59dMLnPAtDHicIgAVsQAAAKpB\n",
              "mslJ4Q8mUwIZ//6eEAAAYn2NGlo2dgBpbRv+Tr5i3ju58augZA4/d/yXizx59To1lkv+27rDchXO\n",
              "25UCSTsYH7f3uVXp6SN0bvw3QKFiYurBGf3ExiVWp3qot8ywEJXG/is/UI2sSRySlW87IhXF9Uig\n",
              "zXWAKT7mmZ5C/1PghsyCPWs62+hbRyzMuFG9Y5SIZ6xUCrcB+XolgpvwH3BisHYC/Ox/VhYBVwAA\n",
              "AH9BnudFETwn/wAAGmE4PFjGboPISWvpMKPf1iB4jTr562L2QDLARQaKsZLQbJ23xyvdLptzglOP\n",
              "kUFBH9g9ViUoQcFafUmin/w/Oa3S1QkR/6GsT3tcv21qS96Foi5411CD5X3WCYaCxHTCPs3x7gEM\n",
              "SVC4m7rPHZfYZljQAPmAAAAApQGfCGpCPwAAHk/99alP0BOtIOCPogBJoAhmaYNOLsoYtr/hzA43\n",
              "uxug52oAsJ/5PXT/cXG6Fxfhn3ECQl7lynKQktWdmey0/NFDhU+uMozf/ZYoAARjudwafYyQcCQ9\n",
              "WNONPm/EuMuYR0kYIOfUHlrmTKK7JFQRFYd/OQuk8ta9ReMAlRC6vjPp7yj/6mOHpTbLKR+pibGZ\n",
              "Ag4HxGKmDYafR+AN6AAAAIFBmwpJqEFomUwIZ//+nhAAAF/4Tnt8IDGDqbfwkALZTjgvBMQc8sET\n",
              "ZqT3P3iQhByXjFH9bW2iPrOva4ePAjpo37qWb9lPPAU8GM1LlSOOHlc49YO1DhqaVH2zqsI2lWnF\n",
              "UAs+pNhbu99BHJZGWzkWTfrdWrCUbY8HdFwq5jQACBkAAACAQZsuSeEKUmUwIZ/+nhAAAF15lzrX\n",
              "Wo/reDNP6SOKh0AA1KXsEdNLaqj++FCYwK8w38NvKYUvDSagZSIoiMmVzRWrixkLFEuVbOYeqwMX\n",
              "dv+XWg+fibJTSrY7UkGSMDTciw1pIe9RAI/RzLikY9SHfqVFAJR/3sPaBNbpLcsgAhYAAACxQZ9M\n",
              "RTRMJ/8AABkfTSxAAJRa8k0+WoEttKPnrrJozYEuuie4FE+9btVJAESxCwHA4FgNXtei+Iwcaw0b\n",
              "nHIe9QB80tTVoxo/TXCPAovDSNwv5MV4SqZK27vW1Im7Gk9FB4CoaM7c1wdfrg6ETFNaQ0CAEeX6\n",
              "x1G2tdYIzgK+Q90DwEMC0EFI2Z8iSYl3mG8uXlk94K3UACFO21QPZ25AagbkoY0kqMjP9bRB286U\n",
              "jgGfAAAAcAGfa3RCPwAAHbh5gzjqjKu41PvCeAD4QMshhiSJtL18xX8PaRd6AIKTetgUSN7WShIr\n",
              "UsPUnAkkO1YFLyJRrzxei8sII0bAN8FF+0CqZsbssgQgY6Wp/KQKGG3JN0jdeaeIXgJpbaN5++Eh\n",
              "/x/gAccAAACTAZ9takI/AAAdtvsDIFSwwzxPAyKRdss6cgfOkBITM0fmAxCD3VrH9fd9GJpRZN+E\n",
              "ujuliaPUGS+r0uFkTugPAphXXS/QzHQPsFOwcUwDtL04AjH1OPWTBKxekkiK3ixAV61jJbpHaw7X\n",
              "WJ+o5te+bJoa5TGgaibNh5efKMbTTt/BVAM347OzChSi/sligceYAJeBAAAAm0GbckmoQWiZTAhn\n",
              "//6eEAAAWzmXPthLznnX5w0BCjf8eTSOTJ2WgLtwf7dtXF/aULxzpqBGd9izZY2KpDfCLs8/EI5I\n",
              "4M8OJ+zvcuLNB8cqyFGu31fWop0gcd8EVJOwOROWvu/PBsSDwLWVbxsv5w3gaQ/iXLRo5tB50RXC\n",
              "FIxpmMMDCoPvkuLDxaJlFUtsF0MtTIAKSzqJfO91AAAAV0GfkEURLCf/AAAYf09MN97LVmqtJzxQ\n",
              "o8ke8HCqSNiVKVlSHfgcvoou8waOgi/AzRikKTB9epmHMtDImwhiWsZaMH+BMTLtS4/EfE6ch5KG\n",
              "j/tIfIAUMAAAAIkBn690Qj8AABz6x2MUh1ef4KMgkAngA7h8LaCZSxjwe/f1ptzr7W+gZ4hSY7Pb\n",
              "5Pl5fO4O6r9hqNtGDAGt7nlsBXb16C0SByhupFGT54i9mQRFTAfbB5tukQ4PyG5JYpcCu2QdFMWX\n",
              "wBN7krN6yWX6alX+j3AnhpJDNXcqdhVMs8eCMmsw6AB0wAAAAHMBn7FqQj8AAB0AARwoevZ1J5EA\n",
              "JaafS+c83j8m/RyYOssW2+e6zDGPF6TFJ7VI71J0S5TvECihSVpjvqI+dBswNN8/hYfAWc9N53D0\n",
              "wPFMAapXubR2OJflHsmnG94evXts5uiKTBCwZQ9g8Mb2GOLOQAJHAAAAhkGbtkmoQWyZTAhn//6e\n",
              "EAAAWPmXPisWpfsOw9te/4JeA6eEYgAIAwf6qY8PySZc4v++txh0r2Y9YERo7Q6TTpQVlzHiQxn3\n",
              "jR+At/IyJs1AodXYzQZT2dNbzc1WkYP+CQhbDTZGqpIHf9Hp9fxEmFY+Qb73yciVsbK6vBgDSeZZ\n",
              "yo+i8DFgAAAAU0Gf1EUVLCf/AAAX4S82f/Czg5U2BLvJtsNXQXuwU4XyK2QVUjoVMCb5bwN1aqwz\n",
              "B8TxKsJQsRuGwU/ORkAUv8+Mhx9g6PBOCFLA6DtBjSg9IAI2AAAATQGf83RCPwAAHFh5fNRTqtvQ\n",
              "bCjuwAa70ibSsqgyLtNf1RcUl1N+eFSJMo7u+jZtxCVYs4yZFO8OUK8x2l84Gk+iior2DhRwDnzo\n",
              "AA9JAAAAfAGf9WpCPwAAG59vOHeVJKNLQ61QACbtpy+4z/luPGIUQNwi10pF7hfNgCxXskqcJ2n/\n",
              "Qg4tmlpTniepMMLElHPtvIsDRLw3bUDLc9Em5qMJhp47gXyJbQ/L1+IZaCGnU+qhLxry1yASvCvB\n",
              "qmqj2IaIit/uHXZE/mOwAtoAAABSQZv6SahBbJlMCGf//p4QAABWvd6uBeXye008VfWX2lE+I1Yw\n",
              "W+y5EBF/gU13uI+dVxTOgxTMToYLdjFbKX3q08s/cm8mKIiZw8Av4iuigvsEHQAAAMZBnhhFFSwn\n",
              "/wAAF0ZSS8o42LNg21WIRAADaYFgcOsbpKLYyPRi92DTtG4rVq8PKwYJ8qNoyx1Tj2NdDqYlr1uh\n",
              "qUVCWvHARtxjxHBHqEtiqSiIUID2Jme+ZrqJfrMxXZKGKZL/llh3Pp9+lS8o+cBlobrkGGc/9k8N\n",
              "Kt/qMXrDOM5sbVE3Q7Q41WAq/yykHJq7hHLZ6O29sHLx18uOJjfoWiiI/M3VsvwX8dz1GJWrk3IP\n",
              "sNPWsizlVl7oakgHKGe70zyANWEAAABUAZ43dEI/AAAbqYCjxs7gtonJXaAA9+EPoFWO0ooaejcr\n",
              "7KcCg/oM5a6nmfuEudOs1hnTBeodUguz2bEm4vtyDgfCuSzZ6bZxW5J18fi4IceAAGBAAAAAiwGe\n",
              "OWpCPwAAGwh2lY1JnE9NgAnbWMokIrAKc1xSPdh18jU3LArBIgyIob5IIrC73IZBDBul9IQMTlMD\n",
              "feezN+e5WIikZ0qxl1LhPXUbsuZWK6p6L1+icAuyo6Qc10tUVZOwCHtJN0FhomH2ive5XS/myrmW\n",
              "Ff2QhcDGC4uxaISC2E8HDBdyuJQAIOEAAAB1QZo9SahBbJlMCGf//p4QAABUfd6UY0732u3B1Rvb\n",
              "AAZuHWsuDirvHQ7BgFgz78xWwbLkk0rX9g5Z1FFI8WU6gZKnRnqnVrRqH4xVzfKbpFVGeUt5Pog8\n",
              "xVK48fWVWE4E2Mkhk9gPjU2sOjJ1pcMOYR+e6Ab0AAAAhUGeW0UVLCf/AAAWtlI8a3gBJzl1vuJt\n",
              "99jtNJQLd3LyKrsQkHviWNcYA1KsuxQsI7aS7zDIXxSOtWaLf5W+7rGxF1qWNBCuWuYnjmEUwwSL\n",
              "zjozxChdxRMc8+oiZzs1H89DLMSnBfmZQOlPIBrvHnSmfvx6Fgd9ys8IFyoP9GlxUVaAAoMAAACT\n",
              "AZ58akI/AAAaaHagrMJDXAofagA8KIQRU8rAv0/h3R2cuLcCvbQDC2IgPZT7exI7SEfZWyPiankL\n",
              "fNw7r76X2aSCxd15ZWdaF+QPlL2LmdnkSWqFxN1cThJyFCU+p7+QdMjhSyTn3hw57qWKMolMGkIE\n",
              "jAc6o3Eyi8m2QPwL3kHkVU1Y7LNSRlM230G/IFmCABvRAAAAo0GaYEmoQWyZTAhn//6eEAAAUjmX\n",
              "OtZyP33ASbBBpM8hs3sVQAOkI13guYXwj5u95Yfa2A5CQ+iORTCAU2vy96t7NKTJOgdSeDgWxDY0\n",
              "wSE1HK+seaHZhZ7+Gzud0tNDkDwHMEHuxCC7nwz+c4GjUUjWWEWLYETlUqDVTZ7y2r6bURLz7qib\n",
              "u0lnlfNpdJSAtrGmzj/sDT9mrwIeI2GKb4UA44AAAABTQZ6eRRUsJ/8AABYu6alH3W/8NkNGedvA\n",
              "5zAAqxnXvpbTrhkYBbcxSHjut2L3NLnPiykcIS4yDecryf6XdTVbrRg1b+OhEqf8aKP31cBjW7MA\n",
              "CygAAABjAZ6/akI/AAAaYnbtcI9hCRu8wPSRwXM9YHTPK/h3UGv7q+bkgq8q7nM+ah3mknqqY9Bm\n",
              "9tK3l2oEjVCZYsr6WRTRX0u3oWZrPRtjN9EDlHDHBXmRet9GYfUa4VuIBXxcMAEPAAAAWEGapEmo\n",
              "QWyZTAhn//6eEAAAT/3ergVMpMGuLdrgPWg4yA+RgBKKzjzzVq/AnN3LoTAUO5dJmC4xkQQs+yu+\n",
              "WOa82+YPQE5Hts2e3hUC0LvtlyIvTwHo+4AAAABpQZ7CRRUsJ/8AABWWWE81AY5JgnZkoABqoAjB\n",
              "X5Vx9Tv/KO3KlCcoIF/EUg0wGJIQe7mjnGHlub2PB9V9RNdUGi2M/CwiG+Blauswk4Tk8NY+MjJU\n",
              "BovqwuJlnXes40eMBjpCTeybwAEPAAAAZwGe4XRCPwAAGb3XWBZkvv7M5iYgBMW4nudjYsn7RvDp\n",
              "KX7OGf9hNGh9ol/MFh9NjGQY9LycNpnldpJ9ioq++wNdHt6iNFGvh7TiF4M1Vu205CegmtqNiOTo\n",
              "lQqokv8QS8xL3HUACigAAABbAZ7jakI/AAAZH28/IiUi3Gp9rKQAlqnfzRv1IYVNK7RkXvQISXxY\n",
              "RRXzsH9Qp0kRqJ+NW9mbnL2hURm4A2Sgqk/2oisiHVLQlG8fhMDscO5+EFuYWvRCtcAQ8QAAAHpB\n",
              "mudJqEFsmUwIZ//+nhAAAE26bzrWcj9Sei8q3F7ZatxWAAC7T6tauGR7+CeLWa/aUoI0/k9DSxeK\n",
              "t9HnUG8NEX3F9IKwvw/nPzvNj5XSOTmEpYGn5PHWhC0E4xnzrq7QfwBB7Kx/2ZuxGNpM3DDkW+wQ\n",
              "fzQRx84J2QAAAS5BnwVFFSwn/wAAFQ7pKdKQ876SgnlyDIak5Tcbgx7QV4602bBbvsODr1wX1o0F\n",
              "Vrx2GaEp1SVyAY6V2ox8WI4MBpvtu2MtuEkXkIoO5ywf0Emi8IzMzAKPZBpQO6R6gifARIlm1qfV\n",
              "+zn1ca2ADfrJsgFbRC/gHxO/gFEe02cDwscWP+LtdsCzH1oC3XA+DBLJwgRTfAbSLuQ1ov7k4F7H\n",
              "5pATm8K66o/j01jUsFfa+Hw45kBVIydJAGGZA5tGoQm6655bqatLWtP/TjkLV3CZMNLLAdUbZnmO\n",
              "ADqulG9WhBnh5fcv2hjnfFC8RBfZm7rR7k9EBHvRXadNPs+PBtSKIoslm8kwmFsL3wEYZy8Pw3aL\n",
              "rJ4lfq8DMNnXjjab0f/W7fXLsp6RlwOOgABWwQAAAIcBnyZqQj8AABkidvi8W74LQzHMpACWpXSs\n",
              "rW+nPozh4LV1OZ3SBZNH8CfD6x5seUGjJrFf3lYm3C/iC39mU/Gi0ATDfLSDU6DFTjPXZ+zs9et4\n",
              "NcONYZY8Ey9jDCWIFa0hJdtnQekTLAJBvmDJranIzj6guH/5gQ+IvQTEM2g5WMMzkNsADgkAAADZ\n",
              "QZsqSahBbJlMCGf//p4QAABLviwtWbc3KGQAuhf+i9y6bzs5p7sj8gLksoxDGTmghBHeD7/S8Qgc\n",
              "z+H0o2/nBXzWHgeT6sdeJu/B7+WUBIsqGSuA+fFGj6f9GJ+3kOQmkVlUO/EVyAX5+hqSwRwRF6z4\n",
              "Vi3LVj7etSend9JEdw4WbQSnNexRgaEh3iGmTzjOEk7zDFB2SqD18pcU+Fvfk+DnaQyiYPv3+b66\n",
              "noGCJ949FgAQC7MKZSdY5yixxSDa8iqch+BgN858FOCYc7JfgiOmE6haJRoLuAAAAOdBn0hFFSwn\n",
              "/wAAFHqaJygArvJQxQvzFNXYiLqAxpBPf1EDq3JHPz2hQOSa1Le63uyWqllZwAuIKLUe91hA018N\n",
              "mfg+j0BwQYFw/6eUeWOsg453VCl7b/vz36dDon4snFuETHDyjroH+tgz3SSJSZDypCbQakRzDlq6\n",
              "kpbw3sbFemfJa0h8+mTXQQn1gUU2ukIN0BIYZlFzrO2w4Oz2cqkfq3XSqlEaXnUY2Bh1tznzEFpu\n",
              "f+ewgr7uKJcOio6XYq8Gq6QDJqv0W2KsVNlPD2JTPVnmsxYgBe8nIXfS0EoQg1QjlVgAIWAAAAB2\n",
              "AZ9pakI/AAAYgmU44fN3lsf6gBHRIsN2g7MZS3Wv9DrzaENWY0gcYIDsfoGP+rNfLlDeDwUwgHtj\n",
              "jxO+iKY1aHa4+6U5HCejO0PI7Q5pi0XecMsFBxTCxMI/APJb33NzcbZ1QciO/0bSkER2TxRZrWAX\n",
              "M0AH+QAAAI9Bm2xJqEFsmUwUTDP//p4QAABJVRFBEorth7z62QZ1VLsARH/9dJDJDUO74QvI/90m\n",
              "9CSy6ndyUYO/6Fjbf1KsWiNwmCZE6kPQ91aIUAwVSIeYROEYWrSdwuxQkQd+rswIOnEcRDMVeBwG\n",
              "2hD6VqQnU4yt4XXk3gbbzPQHL5pCJre8xM7Yhl/LrKY9atBgQAAAANYBn4tqQj8AABffhF6QAr0r\n",
              "eDavX0Vfyw0esDYwnQlhyEiVooo3OkxtWod7+bllSIVDcl8BUyHI8RgIjM9N4KB3oAAiXlykVT60\n",
              "SmQ+Zqmb6nEXrb7Smb4vcfLhMgB9nbYFDINqS25cleQWUGQn1VDVdPIMfBZcA9088Sel4V2uhKIq\n",
              "TTZPhz1j+IcV4za3FJyXNLF9wV6palGHo6+NWqlZVQNVLrx21lNJ0hE0vkfeMEU9DIEKlKFPVtY3\n",
              "YBs6y0yF/3FJJvCzc1LNXaLw7PJ6UmXwAA6YAAAAbkGbkEnhClJlMCGf/p4QAABHVRFB3iK7X3J5\n",
              "Blablzx3zydwDvXzeyqwGdosHLXjJZ6sznFVzUPOnjDJc4Lh5Q1hF345t11r+oBeC//CAHwzf6Cb\n",
              "0HdUIEFvT+8egxIiQyD0Nj2finNpsEQH3BdxAAAAnEGfrkU0TCf/AAATVrUsQACqocW+q/Y3mv4x\n",
              "VHOmxc5Qp8SpcLM2bZaznMSy0W2mjqq++NUnlsh5+f5iWRUPzQscgPCDqqhJXUAzv9YcilhbwsL1\n",
              "iy4lM+7GP894tOuz+eUgkceYhNpbOBAqsM8ZW0ViLBpgi1pdt7PnYeyeK8OJ2677T5OxM/qhuVOb\n",
              "sBE1JLFmolmpjt9tHgAGVQAAAHMBn810Qj8AABdMNT04yao03DwjQACw6o8mfZRwn16aW9s2UBo/\n",
              "tGF2wMz4XPzIkvvFHhxTUU8dPXWM5RUDP7taAxJMtfSm8oaAohhKL4dGr3e+TNWOo2zDaKhYJjht\n",
              "K02AaL0C0880KRHKr24Tx6G9gAbNAAAAXgGfz2pCPwAAF0Iu8Qs7jKtwwlvxtQAjZKRsQP5bNAlI\n",
              "yXWidFN9VKZxxhD4uT0+KFKiVu0YqDLMc+D+zWxm27gKQ6FmLQ0lE2aefxxA6owo9/SOkxSmh/Wr\n",
              "XrwAsoAAAACAQZvUSahBaJlMCGf//p4QAABFVQ7DyytgBXL2YegjJ7si4Axigasg0vjG7eCy+U3X\n",
              "LLwFBTRQte6gOxaAlUve3lFjgR6gv+Elicd58gPmKXPZRvLY6c4+WLf5LFL/p+HCqgsLmwLj1p+0\n",
              "PZTcPewxMm4v3SKJSgM0+YwPaf0JsIAAAABiQZ/yRREsJ/8AABLc5qargHtM3tlYcuWSQAJOWOHQ\n",
              "RJaZVqve04QWnxYWG6NIGmuB9GWaZPm0Doj79J2uB8X3+Id5XkmaCIrBSokXvDneq5/h4LsCs91j\n",
              "+AUWjGgKcqAABU0AAACMAZ4RdEI/AAAWvEDKsAJa3ORZuF3TdcKliDgnkMv+zVjBt9/Sh4imqKib\n",
              "Ao3oVZtcdp1a7XT1vDlCQE5irKlI3jhnxDsHK400SlmYCcSg1GO411bnq+TyazNIUPfrt1LkJkFQ\n",
              "GqTtowcyMyAc99/SL7ufyT3SKO74+zYhICvFze6+MSCYes1smA8ABZQAAABuAZ4TakI/AAAWtTbt\n",
              "ctKP6+z0/AAK8gwf0YfmkEv6kAOZFgiRCzST3g+VkAcA6Sk+1/PFNFR0gss3xljYlDM9q6mEfCp6\n",
              "dq3TXNwf/BLa4Hxa5OJtJQknyMhriYG7lyTTrnn9lH4n1LnWyQvaAYsAAABWQZoYSahBbJlMCGf/\n",
              "/p4QAABDVRFm/42uI/TtI+fdY0iesML0xABxayHGjjJINDRtXdl3v5zvlcqywdChNaDeuR8kum88\n",
              "P03gpblEpO+Yw+27H+Ev+YEAAABhQZ42RRUsJ/8AABJc5cZqzHR8OErwV8AEqAB5ofdJqrKKbZT9\n",
              "CxK0RJk/NXMFqdOaKwJlQQKQ+xmwGlKSTojC0HA/aZY7F7bEKOJgq1trBbAdZs9VI9yy3V1uE4J6\n",
              "BACpgAAAAG8BnlV0Qj8AABYsNTA0jepAxDIQAfdBTcsftdUh/ifJx5tyhBI0AO+w9hOLa//wTHdr\n",
              "oL0ykIH3xjeJVVslnp6lGH+ZP5d4pbgKTcYxUdmgm8v11Ql4xemZvLEpOkcr5RorAcCxI8i+5vv3\n",
              "hnQAyoEAAAB3AZ5XakI/AAAWJTb43JACW8SaOcrwAX8bMpG3ficOA0BQECM63RQIclKADH61PP5H\n",
              "saIeh011u+lp8cWLiLF6yZMrV/l82L8d61gdo+Um2ihFeXZmMwYtIetXnMk2Z7CMvOberjpIxMra\n",
              "cwVhivOD2u/mh+SAI+EAAABnQZpcSahBbJlMCGf//p4QAABBvnsNPvHpKz6P+O8hsIMNi6qeENCo\n",
              "hOsobWpNF13lUt3tm71NRWiWfACjNK6GgG7hKrsHB57wXLJ+GgrBQAs2mPUbK33sHUHT4IZ79Fmp\n",
              "6K9WarrD2AAAAJhBnnpFFSwn/wAAEdiYT1FqAA3Fu/N/9hwJvjEc7eZOVSTVINHVm1ddHh9Rs/vs\n",
              "QFvNr9ULiR5DQVi75/csY1prW/87TtfaPqCV5zVpj7GpHtpoB5MB63uyDfwxQoX4BhSQ/kDGMnTC\n",
              "u/2pweSfRGrdfb+MpGRSmU5a0AdPWFE4xy26nHcQtU55hLv/rMsKyzxdic8uyAAu4QAAAI0Bnpl0\n",
              "Qj8AABWQl1ga7y+/tGy5Bb44AJpFtgCJ7nY2LJ+0H9h5b0Q2q6fepZA9JcgLNr9syvxHiacthA9P\n",
              "A0+Scw/RJc15291hTGhEIdXdgeXbZzo5Pn1pfAmRy73bnSCh85v4jJXqTmHmjxZJfFJ/BKKkp3Sx\n",
              "xQyL3Vd20Gg1omyjmwPSTdESc8NADAgAAABdAZ6bakI/AAAVCzagrbYwlACVSyQEmrJHjnZ6CvrR\n",
              "oPGV8Vs1cEQz+XHJB9TgWF46iEvVCh1zwBHqvCt2HDiatfsJ8UMwIXIUXpyKIZWwubX7mibHqhFL\n",
              "a97wQBlRAAAAeUGan0moQWyZTAhn//6eEAAAP2rA4RtzoAjNtZWGRnqoW7fPQdeRA/k6pd+WBZPK\n",
              "ukV/hJYmTxNzpjYZqx2tHJtGeVZJp0qT8UlIhSVIVLM5rzPevxQQvdt0fEY4H9lWtYRcTlEijEWC\n",
              "mlW3KZFhCHEMwfsxEdUIHdEAAACfQZ69RRUsJ/8AABFYiTaLYACznowFMO9AN5VvqPuKISUr/dcX\n",
              "C1pU5+TscoxBEaR5eEnrMRpzcQrWKmxTKyt7bFH27pri99qHcX+A0qPXSRFEhYoOFzYKtigA2V85\n",
              "vSbAm8LVz5kpj6yXWFqOisXD8GYnTcqJLQfRQ6ElnJX8JTlekS86K7fGMI8ik/zl0wIvixr5rkia\n",
              "4pOaLgwAAHdAAAAAbAGe3mpCPwAAFHs2n7p5kfJABaoju8gncEDU5pk9ZRSOxzAnYWYKmjVjLR8x\n",
              "1GhaxtQ+dQBIV75I773/xcsULQp1pRZ7w1MplB2urjXR4kzn0M75PIllHWDv5DExeuj++v8K0nSc\n",
              "+YqAQ3ADAgAAAKpBmsNJqEFsmUwIZ//+nhAAAD5fBo0+9NoAil+fspmOMuydFjBJVEwyqxftex8l\n",
              "Zoy1BPHN3hyZuxX9m1jicl+iO+l9mi/AkNCDHgRgpKeAQ7MxgP6c/o9FkrXjQ6HlzvC/qeH9m4jN\n",
              "ZZrAgHwwhx9w6wEKRG6IDG+5vBSI1DJ54lDlAn5CXpFGFfoS8LncuHdVt8L15QNkdbT1sjw4clHf\n",
              "NQx10d6RfQ47oQAAAFtBnuFFFSwn/wAAENiSSrreAH/9+b/7DgTfGoUoFYpbQ0vZtaZwd8BuHJvx\n",
              "Gfx/zSBWRes5/5aouLwxLEblKKQWo1mUoNdSL6sptvvrow1LT1eAA+WQbHS0AAG9AAAAewGfAHRC\n",
              "PwAAFHCLUkeJBpADDNLoARtPtY9Ln467Sfqd0odWXWtJ0g/I2WH9TqnktshP2FQ5eUSVtaNu7zl5\n",
              "A0Hh8uUfI2z31F2XHj/yWGVwiTM+HbICBZ1+2Tuh8k+0cS9YtlJwtY0YNfMIRIAl0qRQsqIUejmd\n",
              "3AABUwAAAHYBnwJqQj8AABPrPFe3Xx6MKZb94AFzyFj1Z0bHz7beNN3hCatH6LFzZVa8Kq3OPTpQ\n",
              "z8E1+tVrCSCAWcs/26kbfgneWPgkbML/Jg8/F6oMjd15X5A4pQ5yfrElL8iP72yf9Re5Yd6GQdJt\n",
              "ZPfCe/vXzNwY2AHpAAAAYEGbBkmoQWyZTAhn//6eEAAAPP8G6XW5r+gBxmQAwnQs7fOZUQs49kz3\n",
              "jiXwKXR/coIywk6PdYsjY36WKPCXAbMwJ4OEcRuHSxF06Mbo/WIgG6jW+zZHRt7ZJjpPmi19nQAA\n",
              "AGhBnyRFFSwn/wAAEFiJOZXws1bl/tIu0EABN6EHIm9CYfdz0kGb11jfT9HyGebsqW/OY4902mde\n",
              "6eGGpHfD/BA8Ajai19dNlQjYzx7mf1yeLxmMZI1nvYe4hlHeK/FD9pwzlFrYgAC2gQAAAHEBn0Vq\n",
              "Qj8AABNV75uxVa6e0r9QAlAy+ixnm3Y7Yi5PPsYoMq1rihaj6PPsO1lsva36RC7E65TqT7EdKhMa\n",
              "cctE9s0kdD9R/VdtY98nOgzgAY42hoVDdPZTFrFJkRH8UOHyJyB6wV3BeGsTngg5cAAtoQAAAFhB\n",
              "m0pJqEFsmUwIX//+jLAAADv+9mWTqTTPaUr0vjBVtugAziQd38nW3IacZ3MgENNzYtZt+H/t8lPY\n",
              "ZLsAwgjdUQqRZpN0pv9WIwQotlQszFvVb4M0KcxxAAAAUEGfaEUVLCf/AAAP4DjLyBwpcXxasa/I\n",
              "aCrDpQFDQEIhw+TDZdZptPoAg66ZcBwX0gTKDOgxCW03rJifof0j4xwmE1kxt8QtNozZO17nkAFB\n",
              "AAAAYAGfh3RCPwAAE141Dxs7gtonJZfEALbuc+4QKpgpQKKRN7IhclkEO4GbFipnpR5VQ54lc4jx\n",
              "SG5kaHretichjVrHhb8ZjeVI7XqOLzZnzRIdVgrNWyuFdq9e8gFTAQAb0AAAAGgBn4lqQj8AABLd\n",
              "Np6cZN9svzogA+3EcMAS3Znq97tP4dgFvoJK/E8eEKI1jHh3grZRMLuPxrSun0ElWXiB8d2Q8vEJ\n",
              "niBgVjcQTCciufsax2ivuCb4fuipOhF6fcyjEmVa3TwiwAANmQAAAHpBm41JqEFsmUwIV//+OEAA\n",
              "AON7jWXDV33ydijBQg9T2gA58WN7SfFuOU+hFJBgtYL2B1XqLnJVCCXjQe1VfUdSpT1H7RlQNA2J\n",
              "alhu659YehEVcgNeOfTq8PeaATpQhaUDC3YQDlAWZcDZ8zikIhKStW5vfVyDQegGDAAAAFZBn6tF\n",
              "FSwn/wAAD4g4wCBw42yl0gBKaZ6KY4XJhiZhtBL/2vHvWmEMcbHKzR0bKo+0r6ILneRgPjDlTpM9\n",
              "5cAV78h29HVc/lkn/6SPj/7YnWIfuXABjwAAAIQBn8xqQj8AABJdNqC8vpE2j/SroARrhdkm+lKl\n",
              "G93XXS+O4URkN9J9dpe8ZVfbSosTrZ2xgAVihYKJA2nzjgSCtP1Fa3i7E+6AcaHrtj8VXmvX6qg7\n",
              "NFpP0/DvzwlvbIfPl/MfaYiHEFVxbLWn1j2vXcPLtfYDZjXJh/3LQb8mR1oApIEAAABtQZvOSahB\n",
              "bJlMCF///oywAAA459/Hur8v+S+pNYgA/oH3NJ3kMoSHzJbb+SI6180/h8rY4e2PkvwQqOMMM9Gp\n",
              "q6G0gmyWUWIoRwSM1WrVQXsAOtEoyHLSS0J/9jkbWz8mAVlFt4z/VAlLcDrL4QAAAFhBm+9J4QpS\n",
              "ZTAhf/6MsAAAOT72oHlres1ScQaAwarxySkKfEIEfjYGuqR4CVIvLwSyMa4ikVWcvfwMQQJYGnJs\n",
              "OYZd9B5US6jZG3nOr4WaVi0+P94ARQFJAAAAn0GaEEnhDomUwIX//oywAAA3sjjVJPgAcb//RJ4B\n",
              "70fmtTeWigh9bByF2xl4qFUGjxsuJuEZGe6CL+ed9XR7OQs31KjQt7iIOBod9bzzKwpJD9d5hT2k\n",
              "blOvrCGU19OFAIgk465ze8ZFpzJGV1XwLCK8UN3WviKeqxmEoHvd4ptVMGngeIAYKV4YH6IyH4Z0\n",
              "BOMhTRAaI649Rg78oRCDUgAAAJtBmjFJ4Q8mUwIX//6MsAAAN4sPBcACOs7sAyZUFZp1VYZ6/VRm\n",
              "2NVT7pP7BODlrMwcFwYxTlvFJ7/o21GPYMDYAsCCkUh8mdsXqX7UEsUdR09uiHNHq0dzHM6iUL4+\n",
              "hFralNxApi4XFKXEGVR5pW3WwmhNseuynr4gJHthVwTjoTNycUAUzdxkPEmS3G5sdwPZzFF70sOV\n",
              "K9AO6AAAAINBmlJJ4Q8mUwIZ//6eEAAAN0iJ9YvudBFd40AAdAjbj9Sr0ixghhM0EPgaBQeluckn\n",
              "5nP0T4EcfoNEwbq7hsWxhavS000FWQJ23bJsk0f/PPG/Nm+j8WAGZPYjc1NknjLAnOhUjO8OOm3a\n",
              "2HNAUR8cowvtxlJQaleIgbwvS5swEoCpgQAAAOBBmnZJ4Q8mUwIZ//6eEAAANjwnRuiEBj4eAETJ\n",
              "//8OqdgPqlwrQxUSZW0BZx3if05595eUxjjheMHiPrslTnR/zr+67D6dBHwX32Ef//jqpFquuqsZ\n",
              "dO0CJJE4gtlUkk2Y6oxxl2F0YGd5gZtW7AO+Q7z2m05l9J28Bq8J5rpRwEcnSt5b653fzB8l84n4\n",
              "3BY+HJelLZ/2qo8atnaXwECRD7OJ8XemUC25j98+GZFG6cBYr/tbm7S4ueU4SdVDtGdHz4Jmms1Q\n",
              "NuiAIuc5+67gZ0KvVt+9dmV/z7EC1UUBWwAAAINBnpRFETwn/wAADn7XPWsmp5ThCOjAHFBKUvBS\n",
              "YDsxOQAEn9fJnzqGIB29K5SRN/CgJ9EZ6lF3h16mjE2y/NvACl9S47oMSDdhY9tWM6I4dmioSI1t\n",
              "BMat3pB8BS906OGfZ8gsGNLtGvAGXXC83/UCx+5q0t+V81SDaUuiorMGdNABNwAAAHQBnrN0Qj8A\n",
              "ABFUu1SYARpijLLdfT4dEDEg7AjU+PBh3tu2RKh+BOzSe/KT68C1oZTgwezLcb/YEjFLpqWW8yOJ\n",
              "xoElEY59jn/pbpo4evrizxeGROUDCEqsFtd+yrbdmnd8TMqPftqjjqOB/HSWiX6lfIA3oQAAAFMB\n",
              "nrVqQj8AABFdNpQj1cSKvAAm1gpvEUrGzcBK1+kgai34aPQvvp7MhNgtnTE3RSJ58RRtKyABXk93\n",
              "agMCsZ2LtRfvM5eldmsyxUEWFDovCfAD/AAAAI5BmrpJqEFomUwIX//+jLAAADaet1z72uXO3sfQ\n",
              "QGAG3G6aA8OcZWpx/Qb+E4yFxt23RudNnTdqEhr8uDop9jVAKgA+hGG36HkgLcH02w6YUoa0oMbv\n",
              "smzqjQau4q3p14qem9ejrtV9tgPcIgF6eYVssmtFRxICn9EokDvqun42szqvadcO4oVb4qCdKAsp\n",
              "AAAARUGe2EURLCf/AAAOgDKbToxGqgSElJdoq5E/olvSRbPJkLcwm4pTBD/WY8XFLqekewwQNeRA\n",
              "ThKVkd+9O6kAamTD0wAP8QAAAF8Bnvd0Qj8AABFV55IrPmFOP+GZGPwAJl0QaUM19b4TJObll6mS\n",
              "E3Qu0uoy5mJE8gzRyOYREZKZMgyToEEuA+uI3gJ8oafrW5E/5k8qeweChRi2lKxC02HR9c2DgAB/\n",
              "gAAAAIkBnvlqQj8AABDX8S+RIARzwR86uRi/YrEV80wOhUhFKTlSNIaPhVZj40IYDJbHax3vxyI0\n",
              "5z8drpsd1quda5MDu7kwCKcmqjb7Uh0izwAAww3Eg5xkHNMBQRax9bK9HztjUQtDZSJreEGBgwRW\n",
              "EI1rufQ6n/bb+IgABFCiWlNMYVdZjDTULxg/wQAAAGtBmvtJqEFsmUwIZ//+nhAAADNrsKjdQjHq\n",
              "S1BSgAltjDIvCfYdfmWVCVN7GKdl2GrD9ejm4UvSZAwiwjmv6Gh2km/MDH54pqXEaXYnb/9eXROW\n",
              "vUAEka5FFigeu7wQ46VRzOvopZtMZMsFBAAAAHRBmx5J4QpSZTAhn/6eEAAAM7wnP3pjVqWeFtof\n",
              "AlELFigAVGsOE9vt1xQxYMFCV+Q+aP5tOj9P4QtM+E7bna3kZM3+Us5ptYAmH0gtG0nhZ5D9Ky1d\n",
              "u8rgUBzl8OSRJNSBY67DT6x2490nmYk4e6suflANqQAAAT5BnzxFNEwn/wAADdNBZQjRDwAXDzxv\n",
              "7Zbzh5BjiIT9cLlCXQ9g4Q77i6/EDjgHuLhaO7OTmQ5YJKSBwZ4zheljWDyjJjj6ZdK14y76MWFk\n",
              "GeQSdDHTmBSz2jx1T41cXblF8jg8g8QO67/WdWpG5dyM2pHdJ+N7VHLePjuRTMZyQVCLOjBhPgEt\n",
              "qVCaEP8Tq0DDCBwctG4QAukbuAAx3igOVFepDOseZqaooZj1Q3m+RlK7RPQTkiaU0jFEnq5VZTCh\n",
              "AjzwW/Dxg4fQrmch4jrpgENqguZBcqvba7LXr/nhSQAPDWwcaUuXG1XWy1nxBCQ4KPyFZ4aHkxnv\n",
              "ygx9xnCQqn7ATot5HFTu7kionEy6K5UK1WEKbQ8a+CPC+rmPy9QTM2HyYwqInpjN6zJGO7OEojOT\n",
              "Mucy2HCuRalAApsAAABzAZ9dakI/AAAQV/5+x+FUx59NAAlr8wO5XrjVHPxi0YBrHO2dFHGgE4Jk\n",
              "Y6eGoOI4zgKj2RDwqBYpU0+d/a7qOesvbhzu0MAU/3HgfmQ1rdSCKtX+of0O/9dQOiN210niA8YH\n",
              "YkrvE5h5oS0+W37uAACPgAAAAK9Bm0JJqEFomUwIZ//+nhAAADJ+xqG95o1FWBIZzEUsOGBZjPat\n",
              "3y3dTv2l8+WHqhrOK7ICB+NQLjwQcdN5vwTppuAxafMQU//EchSDuZKtDSjg4BKspB5oS6mVxUu/\n",
              "Oi6a1f7pRBQNurXKjHYNIUngQjOSpQueCfopUKZEYGkvXcUVzQIWntAKUSs3CHvfwpAj9Jf8YgjY\n",
              "y/QwZ8OadZBzmqeXZrgwOz3evDDN5AwIAAAAiUGfYEURLCf/AAANgJwlXW8AND/437ibffWixmbx\n",
              "OcHdN9y7BtallkqBZidMCLHBdlK10GleLA/UgxfHcDSX/UBLyjRZjPKNGg/hfuqBllVUh6ovPQHB\n",
              "m8dI9ipL6yJIXi6aJrvLpv9Yw/fos/AuC+XZb8f1L9eXJiKjaqp4aALCv6NNwVVbAAEnAAAAfQGf\n",
              "n3RCPwAAD91jrd3eI6uBrPUy0AB+2jNt4HNHAsIzniTBi4a2GD0iq3K2alAlmFRuUtP7cYlpEcQg\n",
              "VclMIHB4OdWcrxgkPG2Gn21/NruAavIJ8uiaWOEmOjRBemZTYgVLnldEVZkgjOwjEsw3ODp5yyiD\n",
              "VswNORMQACXgAAAAfwGfgWpCPwAAD4ZHWBvMuqVUd61jZACYrlCJetRonakFFHBjeUVMP1tGtZzW\n",
              "74vsUurjWewQa9/vXrHWd8v0wunEhsWV+9RgH0/5rQdbO/QDCFFUv/BSnHJ2HEeyXGhJCfDd4USF\n",
              "2+a23HePdm34u0g8v38dDhAdP8xfeAAAd0EAAACCQZuFSahBbJlMCGf//p4QAAAxPsaNLRR0ANry\n",
              "33139z4UaVIfDQsra+B1bD9Zblga6+t9cV5rm3K3cZIA4DRH6Yxp9JFSTe2dUTvyaPQfJ+Qnqqup\n",
              "hCHajCsokQX8C01cJGz2xFEmfNnXhgk6ADGrQQW6Xfm2lpqLvZugUmpNF2QDlgAAAKNBn6NFFSwn\n",
              "/wAADTM7Qc6ozRHdyuy10PWe81pwfR4GHudva+5CHxiT7MLZkqIfL5iEQKAk9qW1uPKXQh3Dhokn\n",
              "JFNpkJpTaHyk6EIzsXMbZf7oKlnsLWTqHtuClxpQaTBdZTyFzF0Ynn0BXyMSQSn2aZwJuuuuUqfn\n",
              "7+6eGiM6keQjKvGu2P/iGtNZEsRH2lLX1eHfwwO42H+OgmmBWgbIAEvBAAAAmgGfxGpCPwAAD4fx\n",
              "rpT5+EzzKoMnJAA+wpJR1yIsY2es6R+WjXQidf9fTuKyzyh9R33qFDEzMsaWEF0k5OLiTCJNAQ8u\n",
              "6eWDHSBI8uAL/huMaBEPvcSthLBaFc7E+0PqBhO0JSDvHZUneBdSBg4tKo2hXtRgXGDzoV/rtUOQ\n",
              "yiMVgSF4WsjSKc5DbRMgMxInY/JmMgkRMiAAfMEAAACCQZvISahBbJlMCGf//p4QAAAv/Cc61nI/\n",
              "APbnEQBJhWviAD801jlax0T1oi6AwPGTHkkdPZ1sGuiwxGLvbiyuf14YMTi+6n1nv4gKgegn8UVf\n",
              "wtu4OUwuaU2OLKhaZ6Hj+xLznY9yFTWkOw7W3xhrZIoMFU+0OaVOGCM6Bdyh2ZBSQQAAAIZBn+ZF\n",
              "FSwn/wAADOM7Qc6nK4hQLSwgAhvW8s3kMTESSwr/FtrEYeJDow5YpXCpMcLHlIibK9FsIucA4oSE\n",
              "L/pORdO1PSn5W3p8nqLo70JLsBVqbae0C8AP1MfiHU4zznZ8Tab9eJrUzNhEvF6HG4uq1/3QarYj\n",
              "7KXuFKNNUgnKeVMMQABywQAAAIEBngdqQj8AAA8v8a6TYltQO4NgAnHP962ZGROlosPXm2FJGIz2\n",
              "x7xGS79AoVhLX5uBsLEAz4ON+XdtOCSWdcRqHoXvNH/VHRP3DBajeuQCGmZ0WFOUVygUfVkwbKfm\n",
              "Acab9PC54ivzODUvs8G1mErZ3VEZGEYHGMQbIlXfEQXAEbAAAABoQZoMSahBbJlMCGf//p4QAAAu\n",
              "vMufFYtS+/FttcBBthqVaKolqgUQFUzLHFJ5i4KVvMZ0gqHXZGT20nH/egmc5dVS79ZQt4y3kPUn\n",
              "6EglJOni0w7k5POmWPq+cAOBw8yZTIGk0x4nStgAAABSQZ4qRRUsJ/8AAAyQnCVbdPPFV/5ACxn8\n",
              "PIHzQuUfDAHTeZNOgkblNWSIwbalQ3QsGOg9Yi6XQf95hH/yOqxfnN7u3SlpVXTExvsMo13wcAAW\n",
              "0QAAAJgBnkl0Qj8AAA7cPL5qIqTP0AAJa/MDuT+ZgIfTtTiqY8jbra1ubzGZH2fYD7WLlZk5WsHK\n",
              "6m75KXT8QBHOhemHJskOjABrqzfUBY9u1Xsmwpm2vyHfgcW5cka7xOfMIr1ZpRJWDOdz8S9AzYYx\n",
              "RIscltLLSSVKUX/UsQty4qQ8HYL+RmUBKTRIhNUsNtICyobfB75LOAD5gAAAAGgBnktqQj8AAA5+\n",
              "O3AREbGCAD8oSRAWJH7ljT4DEh05LRn/6GSA+W15m1VotpKU0CXjUptY367Zoo12toS2HhZCkV+t\n",
              "reOJybepg59A2TddYs23mpXmlptazk9Z3RhJqUsPP9Fd5OAHHAAAAElBmlBJqEFsmUwIX//+jLAA\n",
              "AC3+5cGcU2ic7pK7xO/XVnJ0pDOBfeOQHwARPFee/vO1K5cLl8YObpC7ARM9rXKIi+jIP2eI0jfh\n",
              "AAAAqEGebkUVLCf/AAAMQJwl5RxpSXCCbHghjwAftF1ktLouJAqAK6Tfj3f9OTpS1J+Q33vrRxZF\n",
              "gwKkwS1dQwRqCywFUgD6tFrWmEwTlDpH8wDhhtzl7kiZXd/2K188sl96QpAi4bP0qKLPuK7sihuX\n",
              "MKFZYw5vE0KeWVbUAlF22jcWtgoLCvIFcnE4af84oG3iDWWO8QPFiwVuoHR3lsc2gAiRZTyyMAAz\n",
              "4QAAAFcBno10Qj8AAA6EQ+c6N4Jp0XWMACbsjdwdaVjZuACEVJ9v4oPwShKT2aa6GKdFbbqt9WVa\n",
              "XoG1SETJZTM4jCgV6pmpSxMe8TiAR3YyKGRXUUSRX9gADKkAAABqAZ6PakI/AAAOK31TUDSj+MHY\n",
              "lMGrwAfeUQqoDtrX83vtatZgXO19iZkvFMq9+ck3lTQn77Wf/6kIzxx1MU9dA3jkfE3omDV5ITLK\n",
              "Rasv2+Rflr7fhf+kDQRK3FsXQBvh2i9RfpAAcwBEwAAAAGpBmpFJqEFsmUwIZ//+nhAAACx8y51n\n",
              "EfkSR5rzOeA2A0ABnCV13QXML/4zce/BmZCpS2/sKvKMh3XlRqyc0NkfEsZlRbzvL+DiW1dRe7Hf\n",
              "VdwASAdQI9y9EJAzCMDMKzU7RSRINM1poB9wAAAAi0GatUnhClJlMCF//oywAAArvMuPPLoUwATv\n",
              "ndbn9QpkJN9LMI1rt9JASZG3XA5/SbvEStEj+si2QdhLzOqzfs3SMqECJ0HN/9Tq9BxCmlxIJfTT\n",
              "K4NkZD8dI0W3U8l8j1HT1u79wJAjrbsE5igQAhGDEwoth0jsQhDv5m5JWqQqd47woXAixQ6gNmEA\n",
              "AACbQZ7TRTRMJ/8AAAulU1NbHMtl87XXhQ62dbAAehuxO1f8LRVrfj0N7g8R8uQLCaxr8r9U9DsJ\n",
              "lpxcT3ouFAIzurijORri7hCLiYpWkONgikfIdRmGwZgiGnrV6lZIz1WIVC+MERQHt7nRMxhR47i8\n",
              "xVTp/LEfV8YWrh2n+ADRU5+6besAdxMBn0obT+MIOdGTxobt4wEJ9mAAPSAAAACJAZ7ydEI/AAAN\n",
              "zuu5AACvP05Zbr6VQl3qdjdmOL7tLiXEVWKGbfHhrglLgciVGq0qWu34xaOf1vxxpeI56oN7mMKi\n",
              "wt55Gu0OqA9B9ij0H5eGrUFErjUcbvv8ynIvIMDxPEyl/vKmP9d+NXTgeR/55ebmxdruLl0Emzzc\n",
              "DaGxonyVf0ML3KAgBHwAAAB9AZ70akI/AAAN1DtDgt+1+JSM6XQAeFAokJSarLcti2wYReaGWHX/\n",
              "YAQhK/2iA+Vv9Luvv1dEcUkQ2aJdJekEMKto7Q4rkUdm4XcB6G32WkWpRmF+u08yNTUvQv11456R\n",
              "61H2GNpvtcWYn7Op+DLXv/EIx7y7iIwtx6AAUkEAAAB0QZr3SahBaJlMFPC//oywAAAqXoZ0xij8\n",
              "bU4ARkn/4mfKOnTHjRhvQ9zpFHsEdDuhwnPWNIS76pYsD86GZEwe7UM3vbi903aUCm1sDt7hAPut\n",
              "7wuaynh299NZQrLngDgHtof6+TBt2SV1U1GlHixYvYHQgu4AAABlAZ8WakI/AAANf7eP8JaccJ3B\n",
              "AdNaw/1Qxis5I0QaLlsMy/dft/ppcnkgroUpzxGmsMqOc8kjbPwj27Dp0H5LTi+IKBsv1jygCWrf\n",
              "H9nyfcnrZUI13Qq77uckZqGYLuoqPsAAPyEAAACnQZsYSeEKUmUwIX/+jLAAACphouLOvb9QAXUg\n",
              "sZIICKKEz9cCfkZfLuEA+A35xw6zHksleAyKLhgRmHl1niFrxwnsmmRju2Yl5p32fHN6nGsrzxp/\n",
              "m93IkB9tvrDXYj/KxJ5H9thAJOGlqI74JygKub7VBMqK5k6sZws90K5Xmx6D5qQKr7qCHBldHCeA\n",
              "iXeXv6n44jSMUcOU0ibrQ1UwB+h4GBZuFBEAAACBQZs5SeEOiZTAhf/+jLAAACk1D1vrABxt79Mq\n",
              "yN4VZi0aHXSar+Sp+YoX3sEn66QeNwyLwL9IgvZQiLW1JqZQc5skhfT6pS9fY/iXBAPVegtZoWKJ\n",
              "fXBcQvQTKtTrVvtYb4BRDwUi9pM3oJGMUNaW/ufE9PRcvtPRwwNUdXFhdCpgAAAAh0GbWknhDyZT\n",
              "Ahn//p4QAAAo1bM3UgBuv//iZ8o6dQ21F0G4QrSZyWHFamI5Apz3bJNBZ34DaxafFh+BVeQ4l3ze\n",
              "T9fC4GvONumy4EZshRJy6gKHdWzYCzLcO+rKZiTNQBQ9fMyaqHqOplqBnm5Rwu2VcNkehG79aITT\n",
              "z3DlrDFHJU/qKyWVsQAAAJNBm3tJ4Q8mUwIZ//6eEAAAKRvvPDj8KoFT///4Qen9QHwrIl87UwPR\n",
              "4/iVNLhJEcpc2nw13etTcydKZYUKxYj0IrK7MkZl1qgSkHaIlwgkg4733tYtp0AfCnWeW+3t3+5e\n",
              "1a1SWGvNsAIVz2t12GM2ClnQNFoZBRfNHhrja/0CoH7y5FlhzzEJpFfTD7M/nN9AUkAAAAC/QZuf\n",
              "SeEPJlMCGf/+nhAAACjsEgzG3Tbm5vuAD9t/xi20JZ3x6HLrjjEz8ekUkSuqizWJT6rJHf5enWML\n",
              "8uw/fTrltOF8fiX+jCIeJpqpuXBTiMOne8aTo7iQjoHSqDySer+pTVEYEnTwuCOxhe4ucreUkDdW\n",
              "OHAdKrH5WLAuTA3b+yNsQaHYohv8KFJ5VWmWLLKL9ys6nDvZnxrsNSJeyDipWxoIDFa+R+74PgnE\n",
              "5Qk4Pha8yg6Fe7ICNWWgbMEAAAB5QZ+9RRE8J/8AAArNUuNhazfyDSgmkGBEQR4smWQDW1M4+A1M\n",
              "Sgud9dqvT9OO4RkNFz7KybqlatuReidDENbC/O3VE7i+VQjSTaM4jQk4F/eswl+FEfwLTcpztpkp\n",
              "oYYnePxE+jdKkYvKXyLAn+Ph1r1yXiIo5ABdwQAAAIEBn9x0Qj8AAAze5bgSpM9ROa8W1ACNksRI\n",
              "+ITAFM/oRizbSNdMtvpFtjUYuSVkFkJCK2UuAldsenuTPbJcigow0kbvteFUEBE1Pr4fJNHQbqdE\n",
              "reYAvS4/KhOiISbT8YDjGULuGBlakHACYa4DNrPKWuHc7TsVZiGto29t5IAAE3AAAAC2AZ/eakI/\n",
              "AAAM5D4yrACpknhGuEGWNP+g26gWn4JoR4t1eETjKGd0GKLWHF40aMpFS2jM5s4Zkj5MQidJA9ck\n",
              "Vb+GYIF0PQFqF3v0NglR4w/m82Su+oFA/gKgZIRoBGfSNFpLkibyFKC9m/ZsLelYk+cc96u34/oW\n",
              "hpOHKnQXBI8EsB9DHS8WGqEGeBxiRKiZh2P792aWEgvdnkxrals/2iXSukAC20p9TvKDCe1Uwm+u\n",
              "yAAAPuAAAADGQZvCSahBaJlMCGf//p4QAAAmzbDXIkUQdmJfoxACtLDrKSJR5Q1x3DZH+nL1Fs29\n",
              "cOKKjCeUHJaA/hv82GiIkfkd+dWr0fP7eNr6x/UFkqdGE+BccoklZDVEV+qznBbT9DffkSJwMp35\n",
              "a40a9OTxe2TE+K7uz+Gg4rZEQM5koSItPm/joBvf6Drey44dmQ+jTUw3PwwgWkvBDsd0KMfuEzi2\n",
              "WR4/xr2tMps+kNNM+xxvVrotXhvcaRbHo93i28aIxUKI1Ad1AAAAf0Gf4EURLCf/AAAKgjumaW4h\n",
              "uy9DV4gA+2OulJ6hpaNjHEDSHRCgy6MDjzhl5TD2bhZaeBwX69XepdAjAtIKQiXucHjA8XLY5joB\n",
              "uJVs9Pa7QH93qtn2/3IdIMRO/Ah40iDIUqzsC1ZwEBASeM1KtPl5MG4nTMIfkztOqwUAM+AAAACR\n",
              "AZ4BakI/AAAMj8IvSAFX5abxjEvdfcHXH5D5N6AKtpOye5JhccxS3E4q7ji118auz7MAmLCIKZgo\n",
              "0DvVKTVHVETWIcPhtaBfkjWjIRXgeQrPJR78e+9SOg91gtsitUjki9Nct2T6brDwELWWb8A7Sz4T\n",
              "IVwlc033KC6tvVgyauysAb0LD71gzL6FAo22FgChgQAAAFpBmgZJqEFsmUwIZ//+nhAAACXfPcBC\n",
              "t2jnwhpq3O9DOsQAY5oBvmJ3SZl7hL6dWGI0Ct1NF1ZuRPzpH7ZQQtleFXBtz5FKIFZfT/P14pGl\n",
              "F8Ww619JMJyLIygAAACyQZ4kRRUsJ/8AAAo6OpYgAFVQ4t9V+xvNfxiH86ano2TZTTNazlStXb7T\n",
              "JDnOqhvL6DiYzDWbEYbO3/UAyJzQ+01c2w4ICmnexY9Zekslv/YCCE8wd82uRGN9JAa4i6wcdKt7\n",
              "EJ1O+SsU5MQh39+SCgtqXQtGNrZe1DEXY6J9R7VGMHglw6xeUw20HaQg9CJgDwrKZpoHhGHY7FM6\n",
              "JTSsU1eFNbweTHnLgyXUOwenwAAWUQAAAFIBnkN0Qj8AAAxEuqCuCZshf5Mi/+zuZ/WnQhNgsQxK\n",
              "uUQoEYk7YYedt8Mn3mbreuZmssY2iIZ6gTkYHWz+RgmNhCemp5PjfoMsKPJMYC7JwCZhAAAAlwGe\n",
              "RWpCPwAADEQ7RmGAUk+8oqKQABOLq+mDTi7KGLc/N2OzW43QO0Fo91Q+vQ4uUNeISeEOWtLXJwUo\n",
              "VABf18urLiend3DsdPEojK42rtRxVocfTV2GxWUIGVkpjMykM76tBgOXZE9CYAQ8LGLWMJkpmZW4\n",
              "K9GfSW4hI2lWwXaIOesmRf6vu2g0GvE2UlZAYC5nSFkAMWEAAACFQZpKSahBbJlMCGf//p4QAAAk\n",
              "3z2Gn3ptACxXT5WVkNT3ZFmU7Iegw/vLe1y2iDafCz+lRzitq9i2QJxzsv4VaN5106NoTMyIZojd\n",
              "V7uPNRVcOA9QTuerHBf7SAtHainG1X4J8ZUetniQ6CdFuigZpNvl7UIv4FJzeNMc/9HFZv8RgQp8\n",
              "wQAAAE1BnmhFFSwn/wAACfI7pZp8MMNlL5e4RkFp0YOwBOeLHIMwoE25ddOwUvHg0gyxMoEhXLWy\n",
              "UuFSl6L4WMHCfzIKCS6Iwz0TGO/SAAAuIAAAAHIBnod0Qj8AAAvu5bgIsJ8f8MxzKQArs5dIfgWs\n",
              "T0BZum4xSrW4gCQpqH+xgARzGAT9IHHNMhW9pKl0zV4vgUByeOGslI8quhLIbjDSA0WS9aaJruYK\n",
              "bZ/Mnd2WNojnm0wrv7TL319PwYoA0GXnMkAALaAAAABnAZ6JakI/AAAL8TKulD/QLikiAFjA0WhI\n",
              "x2/eUKvYb15pDQmUxVISerVdIILslA5Ui40FVd59qjUvIsncVdoinwGz4Nwkvme9lVjCB38iDJ6b\n",
              "6dxOiLM8tX06Vk7tTgLaOEc/swBHwQAAAEdBmo5JqEFsmUwIX//+jLAAACQ/QgbKXGVrtKV7a8LW\n",
              "IYuDjqKp4im/Dt+gpgQhTEybDhMAUmEUYPi7WPcaDD4g3hQawxstDAAAAElBnqxFFSwn/wAACa5y\n",
              "4zVmO2q1SGrBm7DekL7dsLm/krC8NToLtG6d4Og4HFWW5bqiKFUzsX7sNTsWUH+WU3y8a26ywZqQ\n",
              "AAj4AAAAcAGey3RCPwAAC6YamBx1RmQkKMgh0wAlC332GfB5/LL+ATTw+bSNEwxb3MhHFXqSPc//\n",
              "cBC3fKrGL1oKzUlhCSPJ3Z7GPRNDcSc+v+nxqlWbmPpz2EQOkQRJjUUyvJBjW0y16a19jRrmd2u+\n",
              "sf0AAR8AAABxAZ7NakI/AAALopKccOogETXPiBegAXPF52Kh4fF4rqNQ4wqZlc3fggCiEYIbYxda\n",
              "iC+kxJlX34CxVgg7SxH4xjxTNx/pIew8kImFjyZGYVq8rbinz2OMnRp3uIy5JZ9ytfiBzI11t8Fd\n",
              "Z4uQc84gFBEAAABDQZrPSahBbJlMCF///oywAAAjALDWi7DDcWwuCVq5Yoel4utGs5PaWhlB8GXg\n",
              "k5k15UY/rvcSfyiZsqdH+k5bQjA7DQAAAIJBmvBJ4QpSZTAhn/6eEAAAIt89tc9AiW3DVe0Oy+/c\n",
              "4r5cABlWH3pj8ARQo7gpBQbxJuKK4w9MTx4ugb1pkkSwqoPrT6EqE9oLR/LIyQp4j5l4Nqcx+j7g\n",
              "2t6rDP8JQZAsL2M8Go9bynNKehEYrp97Dtyvz3CUvJGtNPed1VZ688C0AAAASUGbFEnhDomUwIX/\n",
              "/oywAAAiP0IGylxUe6sOdMKK8iWyXLmNNjypAVL4AciLeJY+VkgFwZ+z6lOGiJ7pff04Thc4ozX9\n",
              "A9DmDPYAAACMQZ8yRRE8J/8AAAkrWpJpbiofz1h+B0CdRABOpabuyJS1n3iPW6Wm1qSj5khTb5DR\n",
              "jedk55zM85Dsm3xLSS+3/GzabjbfpfW0jtQ8NvgWI0Nir0J9TKMDjo0ZA50t8t675VI57oy/EfrB\n",
              "6TUoX09Q1gCqizYj5Uiqtxd+yIt3fXgsOi4QNatIvm4AA9MAAAByAZ9RdEI/AAALFhqenNVJvzqK\n",
              "X6AAm7asFHcIgwaFPfmn46dez+3DCeHbjyR8/WOfr2uIBCxXklQeJnvYRL8TdCZaT5hYGTHvG/jl\n",
              "TriXF8dtNNKdZaXf5ucVU+CrYlxR1oy6WVmMQxci7V1nEn004AfMAAAAsAGfU2pCPwAACxKSnHPr\n",
              "qfEb6oi7KfVta1FAgqPho1Y+szNfm/B1gxEwhFsDErOeW9uVZqxULX58Kb79a8QNmGWf7IYYztHY\n",
              "4XxE0ZVs+O8BPETsZC+lxm3D+Ypb2KXbNEJXl8UQchfqUlK9LjCnoOshFPVUPHfK8517iXDV5XRp\n",
              "2YUep1foii9XDniNg6CSNOcmOXX7vuYD8pVRCJ0mEedBO5XJ05oL5NUdvgpgAB0wAAAAYUGbVUmo\n",
              "QWiZTAhn//6eEAAAIKH1JuuZiscyK7QQPBAB8e8kJJBEjprpoFcmAo4uzFnkX3RhlkHrnD7RvtqX\n",
              "vx/dXg85Qfzn+zKrKyJ81uMMtqpybV3P9aDkx2JGdnaWD0kAAABQQZt5SeEKUmUwIX/+jLAAACE/\n",
              "QgbKXGS3wbeFngTyyPXCtgpcDCjhxL2emaY/obiBvBphFhwDHMU52W8pL8bIorEfm8ur48hl7JQV\n",
              "woDXAGAAAACMQZ+XRTRMJ/8AAAjsSSVdbwA0P/jfuJt99jtOgCR8l84btQQorq5Rfw3/BurBliBB\n",
              "zCEcygrnpEaexU7WanvRp3pQX8duYAliMuENzO9fM1AKAASq0Wlpx8H5VtXmqe+ad+1rpOyarwUK\n",
              "Yu4NfJqM9E8MpPGlgFKDlZff9a/t4eGnnZ6x3f/rFgAAb0EAAACWAZ+2dEI/AAAKyEWpI8ADPvuD\n",
              "gAmTS6Bafgmaw3cHWllmet/f0qlQYi+Ktmhxj+vvx6tFm6A+zd08xUA9AKgWdM1HLQXv5wbQZ2Cd\n",
              "IPXF4n7B5X0voTXKwvD8VMUVIFRIEOEgPzv7qz4Pr8zszWkdrmH0hQ1b7eBcu9YghwxnczCMm6mr\n",
              "FSp7861gyzH2btcxyYFwADjhAAAAfgGfuGpCPwAACoEXn4/FRjYb9AsQAtS9RsC8XFqUIZpsb1P2\n",
              "S38Bx6bEobU1LQslvMMdtPEBeUWlwm8Xk7RUpP3uoAGGxHu5xjYlS+YCq17sFmqfBCLJLHjBTBVX\n",
              "azMZIh5r+rDGY0KPd5u+QWRhNRRjRD1XdsAmgI4mrgBQQAAAAIFBm7xJqEFomUwIX//+jLAAACA/\n",
              "Qga9cZLfHcS1PJp1cAIDRSZiY3p25qPMW9XfPKpPLV5F3k448nDTy0ZhKlp3jlejar3kpOC7abKW\n",
              "RBjtOOIF/SLSOT4YzPbuJ4y36tsrxNXkfeCgrvIZpz0bNJ5lix0NGxIQwqqJqWILWSws6d0AAADd\n",
              "QZ/aRREsJ/8AAAiubROUAoF9+EcpcK3oS5nnG7AY7NAfIbfmIPTEAbg/ZHmvchKl5sxZxBisXIyo\n",
              "QxsKQxNrwwe/O++v6bMH04xBOdqco23Josdul4Ajkn1V4iNzR/MGIYVBV4KbUN69WhlDIFcavBU8\n",
              "KO2vWf0SozY+DlO6gpsS98WZhTcsubA3BcB15J1hhGxguKlixp/aqml9MDC/xewZEjSXDEP7DKDD\n",
              "v8RnBJc7pD2LrmWOaG/5EQQOJsHMGjqtT9WZ4x70JnBliUFiJ9aJgyKyYY/ajAAAZUAAAABSAZ/7\n",
              "akI/AAAKgpKccWk4m3rpdtn4T1uL7qqb/4CtI57ZGvD1iS26FWWMEQ/Jx1yINPoN1kH+9OS5JgJD\n",
              "Kf2vkAqEavmEBJ54yC2m4VzboHA3oQAAAGhBm/1JqEFsmUwIX//+jLAAAB8z7+PdX5f8mEhIAIEA\n",
              "QUVN+shhXbsAt0pKwP64fTYnhiqytbA9Oj+OJZZ+OlPQ+gBqd6SSv5l4oDWP3vmFCJ5ipgJba6W8\n",
              "e9XsyhKXAl2DjaeN3gg9IQAAAHlBmh5J4QpSZTAhf/6MsAAAH197aoh0AjCpxbkvD+IMQAF8PAA5\n",
              "skXLr5nOA5y2RSXeXuOOjTGUNf5soL0G/MXimXMLitOUkn/dYQIS8+AJ+2D/y1AE+GNFAdm0E28j\n",
              "wkvHgLGug0S3F2e5EKpZVS7lTyzQMTpBoEnAAAAAeEGaP0nhDomUwIZ//p4QAAAeTzksQAJq+Db4\n",
              "cCN50I4r2h2cM4e2EjskU558foFnOD2RdQNz2zw1bHCq/gbdXI+r+5QYCQSOgc9IVWXJ+ebVhH7l\n",
              "XI4nyf3OGnq4FsGqMv3K6p/0mjwPoTlcRqwVMdWnWcxGc1AoYAAAAMRBmkJJ4Q8mUwIZ//6eEAAA\n",
              "Hl/B+wgN6hgAy3HsYoDJA0BiMgF6dWi+QqXmf7Ts8FvveMjBwpz0KnGloB4GLByeaiiQrSVz4aqY\n",
              "XxsZO1GQSRd0ruyFwv9RaPVGOT2EXFSmgyDoXL591awMCWE82aM4PTQm5L5N3fn/f/9jen0FGoYZ\n",
              "tDJPni2I33kAi/v6Hsn28eaHCr+Byf9JON88JhkG1VmQovNh9CatM8DwTvEBShtrdZZaniUtrVbF\n",
              "dPODRc1BsgLjAAAAqkGeYEURPCf/AAAILm0TlABN7ZOulB7S1BHT6pgroMeFAB6eHiVA5MYoVCWe\n",
              "fXEGbtrdSWjqJFRgd6qiO+06Qfs5h173QtlJZgwGH0Htufnna/2dFF07mkED+Id97yPvzKd/YOMR\n",
              "QcCPehKp+p8DtMgGMyrMQ8hici5ocSWCEwDWqZyYRI5awHdTgwbxGWg8PvTW1oDO7+6E5yPkIGYA\n",
              "/9nS//4IExxPgB1QAAAAdgGegWpCPwAACfKbfIIIAAr1Y12VdQ+Fv6CPM6loBAGP2K+lNzpJ4vRr\n",
              "scUkDaP6VDcc5TLF/aA8dnLYuK6dBJ17gdpIplZApL8U9gJk1pJq84S9NZ2p70uobNzrKT1eYLbt\n",
              "WhDh8L5aKo3+9jwny3b+tHBUEPEAAADjQZqFSahBaJlMCGf//p4QAAAdzhOjbpg6NM5gCOuAe8kd\n",
              "tNpe4ROQZc+Lc8he66jiigo/Ipo2sP4a/NhspvCVgeUls9H1xMiu1ghHDtW4qeV3kP/xnpa8Aizu\n",
              "qvAKMqLAr8XsrTi3rHwmfgtiNgV+faWvo0nGIFjAgdwcVmLPQEpt2xmIyvJCQX8hwQG11IcBU5Eo\n",
              "6OCZkqLYu1kVvLvYYyDAK8hcE/bVbg9587icifCxAWEGyqJLFekMryZUB680LksDREHAvL3xbPNo\n",
              "mERPT5ICdqhKWjfp3jXPrMSPWC+ACPgAAACeQZ6jRREsJ/8AAAfsT91yAAErxpOeq/Y2SgvmXvjB\n",
              "pnB5VZZc3PQJwI5+8+6G7ruJ41pxOf5rn8TMgKQaHwy4MrgNbElzTkRL9y/dubJGghjXY/Zxz4gp\n",
              "LZQKEYfcsweTK1Ni1QzaNyHoSiQ5xZpD2fEBuOlOuoFeMclsZM01NC+HtJv6svowu0if3n53HO6h\n",
              "F0WcxgPH3xUpIowAIeEAAACrAZ7EakI/AAAJqvBd9mOg0IiNOiAExs/zhKTVZblsW2DA4+KP/7AC\n",
              "EIAEogPlb9luvv5w2k2xMbUfN9kn5gIBiHqR44XOZPDweAD00gU08UgE61+Q4R68Cd32l27WnoJV\n",
              "WstBdndPxaARGmi9OBFJP71P3hKRWOQBQXmENJinLhAtkisK6GF7X9jGw9F2WY6lN1lwNtr7SHAb\n",
              "5IFrVb3C4Xgo3PFWaoXlAAh5AAAAmUGayUmoQWyZTAhn//6eEAAAHR4TnWu4pyACxXT5WVkNT3Y8\n",
              "Fu8q6L199jNPfqpRHEoe5HOp5hXlq0R6yFAAp5bdFPmJshOF2fm+if9lW07Q1KRnviPfO6KDnMVC\n",
              "rSZrud+d9Uem44HNyO4x49p72vcUrcreGPLoM36fQ6fBXnYGQJgOPMw5ig9tjWRZxsTAFlOI6KGm\n",
              "8UBgwQAAAHpBnudFFSwn/wAAB8Nrnnvn6pTwr0n69WwABAX9LuqoFrP37XxZB29YNqr61hynOBmq\n",
              "kD2iWRDPyG5RT5wdbTYiKzx+XR/xzkEo95IMSw+ot9+IpHKT4mmHAm7VwpZP1GvSymK0dj4+FfX3\n",
              "a6l/u/51Xu8pfQRaVABXwQAAAJkBnwZ0Qj8AAAlqXapMAJa3ORZxUAh1Bro60Wavlpm77dG9d3yl\n",
              "R3DHgxHc+bwisv0nIDPss6g9xUC8lHO/GMG6XHXKCVYktmu7jQ0uxOarA+mEy0qh7//KX0UZLztC\n",
              "2sG8kjpfk/Kk0p/zdOSPCb4qjJHnVK7AB9H2DkQwD+IZ4MPijDoCdZAQE1V5r/ekm2o4crX6WGMA\n",
              "BgQAAACSAZ8IakI/AAAJa/8/ZFquT/8EssagBLdi17DjrYRqbfR7zSaWeqhuqsQeezCmGWNxhlGF\n",
              "THFXklzBl8jPRSDG7mZ6Q5yyojX3oTNq+0f1L4QCkPdfh+7OI1uEFiXjKRG2SOHEjgEACQvhnxEm\n",
              "+ZPtIZuppUhHEgYDucFtsDM+8MjvfEBAjdmljFwB2r5l2DgAF3AAAACEQZsNSahBbJlMCF///oyw\n",
              "AAAcnhOhDSdmdADWfk9T1wEnNri166uqN2jqQD+ZrodkYsEK+5J7cHRBImblQeGcPqO3ca1hp2ta\n",
              "4DFwTwUnxNEIO7QaI8he4c8RmuD4d5kDz97IvoZ8VMWU0/RL9Sd2OcIcP5IzSX2idQypU9xQy8sy\n",
              "oFJBAAAAf0GfK0UVLCf/AAAHmaKtIRn6poAz7OiaEAATi7tfDQ/OGlgH4X91VDyiTfNDsYANQqAN\n",
              "reZN2U0ggOhVNozb0xtgK8j1fW4eFCqc4GZfkIEOkh4CFbJORShozyvzm6RxLBHdB66yi3Y4Pq4W\n",
              "r/MAnihmUkAPhz2394SpOmAAAVMAAABuAZ9KdEI/AAAJKlkHSI7Seg9VJAAEsEUgRYhO5bd02tit\n",
              "Cg92BJ50lTHfWkXRE/Iatfzp/J98VMcKLr5XxOcjJRrvyF9lV8R8XZ4nVHlDMqbq4wTqEFMTVPHw\n",
              "OHi0NSUMIfgOy8cVlPtgrICwAakAAACeAZ9MakI/AAAJLTwG5K1nLOqgzcjagA8J/nKVQkxx0fON\n",
              "FbHWZzGfqeLF4T8wrkDRJk1CA+M86HdCi//p2OlV5A2VBhSTqNvFEDTA3fnDGW2T8RhioRfWEhHt\n",
              "Ws3HJsvWZYKq0X9phGPs5IkhqUKO72uZLB6kHrM0FmJB0IWsHXHZn3Hmp93urran/ysLHRtStqG0\n",
              "OpvdC0H0g7AAMCEAAAB8QZtOSahBbJlMCGf//p4QAAAbld6/2D9aDusjmc/ABihELyIZbEmra023\n",
              "nd1bvcWPw3kRNiKm1qHnLyLUoXb5BMJAlX4hoxElXjiL8zOE9Ojmn2hlJisoeYUdhihQirIUibfd\n",
              "8/9hAmEb7XJjqIl45cv6tkKQ/DR+CaEyQQAAAGJBm3FJ4QpSZTAhn/6eEAAAG5tZaNmS4k7+Yt7/\n",
              "anLlIAKQ2+gjfZGRE2BeFjIRluFxhX7x3QCZq9tvgWYv0iRSi2VMR0vKHu6wXDUqvByKDa6CA0L4\n",
              "7On5IIOJGibbtd7a4QAAAIRBn49FNEwn/wAAB5juX7PR3QAeV/xv3E2++y6XLTqPMrShW4PaGW4E\n",
              "5z2oncrGNBbYkwM9fE7QsMbl5hi0ORQLKUKp0MczfU8KcUYCJv1tQjEcwnXmDNaBd7pauK5AmNIl\n",
              "ZRIeo7dn5/m39HujVpz52UzHt6vf9QKFfEOikRTfhVAAUUAAAACQAZ+wakI/AAAI6/8/Y10DaP9K\n",
              "ugA8KK1Tnio6Ein8Pi6/LWTQsF8wrpMJEPcFNiwp7dnsW8xKnnJMFgwvclC3zcO6++li2kg2xFLn\n",
              "8fx7m8SXZXaaSwe0y4qzVZ4ukxocPZA5Iqn1jB5dfXjxKlUCq+pqvCGZ06tjqxrtyb1SI+kPCQTM\n",
              "QVpxYSJTsBMAADUgAAAAsEGbtEmoQWiZTAhn//6eEAAAGx4TnxVuS956iUGDhrk4111oADOwUn8B\n",
              "XGzlZhUjWJlJ6yVn5e/wFp8HxKDGy7FMuGhIC/9HcyQclTab6Yzw6/IkDwKCzzwe+aBm8vHS53jZ\n",
              "Eqr4z56sWW6mjJZ0MvtHio+8rIiqEpIo3ro7iAAkNxZjB+uHqTMyudByC0uf+1otBa+E67zp7PE+\n",
              "+A+LPbxQIS+bpJLtk1YiH3B1+4elAAAAiUGf0kURLCf/AAAHmvlF8BQIWGuK8QACtXOe7fJNcpKy\n",
              "GoKov8ndp/9KdEr/H9gNEDJZuw0P7jYN9ZLT4PHxd9MCdGKq26sjGXWuOostB1ftti9b3MJ+mv2h\n",
              "2c/vz2Pt3xYt8w0NMI+5wjrejOrLdLYO9YPGVM/FfVK4BTcJRcLwD88TwutwAEfAAAAAYgGf82pC\n",
              "PwAACKv/P2N+XoSOKrI6pQDu2G/X2VlRotWWER3fI2DVOp0jPSV0AhQtY590V1BwhPfgYIoEVMjk\n",
              "Dco2rLIIoAJBeVl06kfA6dRPUKVIGQ702wcQK731TgCQAJmAAAAAoEGb+EmoQWyZTAhf//6MsAAA\n",
              "Gq4ToYZULZ75S2b6TNI2K4AGXJ7lS0PKvJnUyT2qsDLSpLENPDt299InYwYNAY/CfYuZET24Cseq\n",
              "xqf5FDbd/C56SPBGP72NM3rGFT5rjeG1J9G979XxR0GB2Hi4Dy2S2Yz89TtRTPZjjo7miy37zwE8\n",
              "UrlaiklCxaYuBjgsrpVu+X7NXxKBRcRiUbc4csEAAAB2QZ4WRRUsJ/8AAAea+RZu8vYSAFXSq3Or\n",
              "oH31HGX7TH+rETocRM8zXoLkMqp0tZORY9UW3IrEP1q8rOhUlCVbE0r2ju0Xj36URsjoOqWgrkSy\n",
              "OzO1T0ZT9Cm2oWFi9lcelAbnbBQ41+yuZzOT++d8+1N9AAALuAAAAGQBnjV0Qj8AAAhqWQBywUO/\n",
              "+1rNwaAD7gBwEhzOCyZoUPAjilCLV0cUflsJ4RWx09bcaSDude9Q7dQ4+YYjXBc+k44vxSt8ihR+\n",
              "kUjoOxfMyCkbQL74Pk59EryDGZ+oK3xMfQStAAAAfgGeN2pCPwAACCr3y12Q0xN3Gp94TwAfCBlk\n",
              "NAjwU2lsuX8HMITmdtOnZuLgPI/CPfGcAJ4v83xk2kzNsj63YWLccw8vlfignvM3mcrfyL+81Xwo\n",
              "YJYMbVOTk/a2dbXYpu/aedBzU9SlBPFVd6xtP3muCoxHONB3vgEohgArYQAAAGtBmjlJqEFsmUwI\n",
              "Z//+nhAAABmyANhj8q8J8YLYCyDPaI+PHP3cmssIdr5JNevzOZLYP/CiZ7hkTADpfUfmDywWCbF0\n",
              "m55WdYRjWBhhmCGFwWSBQmejRg9Ct9f4r0KU+SfKOL0Z9bDkYoorwAAAAE1BmlxJ4QpSZTAhf/6M\n",
              "sAAAGg9bMr8c85QZopWUkMmjo3lxFKKEk1ZEgebD2g5lWQc9r8qxLu5+ETNesgeAgTSpBo/UbauN\n",
              "dsmjbqggNQAAAFxBnnpFNEwn/wAAB5jxmMBV+VzUe4pkcggIEGLNjnNmboVOa8jLlzWZdWtdvPgR\n",
              "4o/KQw1og2YMbAkJh3/04P1uqjals/lUILsoQ5Z9yqutrn4JA/MJDIsSYwAwIAAAAGABnptqQj8A\n",
              "AAfvHbA5On4uEhRFMgE8AHcPhbWXAmyOD3piv6evsl6zfwcbTCaetJxtXL6sNnknnM4yGKS9auJp\n",
              "itQXWTFmE+GskJ0FWYP5tMK+yzMNB+AyCK4o/2QAAS8AAACPQZqfSahBaJlMCF///oywAAAZb1sy\n",
              "vx7Nyq2en61ZEUgb+/gADJDtnddNoQFiLNwOiAtg2EczXShWwkxvLiZnhHny4w0Y+83JLPyN1Ehj\n",
              "kGiS+3fO77NZnuzu5aLfeNb69rrvhYY4JkKxPwdSarjJEoI6dJYgsqDd1jUipiiZ1gGC2WfC9Gle\n",
              "63jKuR/lZ38AAABgQZ69RREsJ/8AAAea+NCC4fi1WvTs4/KAwAE62L7oNz1vxJBzw4wJlrrCBas8\n",
              "6K3pcmqrAbS9dyShwxoSBU1MAPbbfQbh8gw73gzH1gcKsx9ur9QpRDYMJZUQyO5C4AH+AAAAYgGe\n",
              "3mpCPwAAB8MdsDhId55iQAeXaEkpKxjxKvDZEbkz48N6c94kD0vp7hVilrLuxRiMJ+n6M6lGc6tn\n",
              "2oBbiTvMb8iVeyyCCZpsIQ5uKpuKBPkUE0L/OUx6hWeztABAADpgAAAAcEGawEmoQWyZTAhf//6M\n",
              "sAAAGM4Tnuc0pWu3+a/+5JzZ5bT5L+LH1MFlgBDlc1VkBXFqqdLkKqWoTyxzPiyDwS3+SNi+/rzx\n",
              "+/l9pl0oENB8cu3cAFHVrhOt3kuMqNKwHbcvlq1aoTckjuCFdOcXEPEAAABHQZrjSeEKUmUwIX/+\n",
              "jLAAABgFotOTMpXZxbLIY08GN/Xsi3c/iYg658lJg0w0RjEwZzPcU/MZwtfnPZpr+lf/MClAhZeg\n",
              "YsAAAABQQZ8BRTRMJ/8AAAeY8UTu3NvHnElcQAAQP0Y+8exoQbRvZu9q/mBVEF1n3RUrmQj6OBmk\n",
              "mTh7PAELtMPsniewc6o9oWG9+CPg/vCzyKAABn0AAACQAZ8iakI/AAAHlyO5AACv/9B+7YRN0LiX\n",
              "uhvnV7Zgm2R6tYpz9lA3QY3gx8tKBdx6tkzaEVzgmRX4AkrKk9/JoFQ/imqcm2gmhKTpeXaECe5w\n",
              "W581vz2oIjsOLTbjeWImyyK2u14cf8KIqRNXND61YKyjPEcep9Hog4ZP88o0GxTSFZGESp//J655\n",
              "qWsVsCPgAAAAdEGbJkmoQWiZTAhP//3xAAADAON6aTEJmY2SB3ZyYhuLmEAEIj/MT/9dKFX98cYL\n",
              "yB9BW6XoA1tur4rwY/E0gTarN/3lg9fSnUEkCHzTFpmBZR2/lgiV0mW2TDzmXAFXkR0I21oc8Jl8\n",
              "IEbOduViHZVPVe5ZAAAAdUGfREURLCf/AAAHmvibt3M1as3i+0JP3QfmAYJmB4D0IGM2o3gMmstO\n",
              "8mTJPozvx8SfayQWiavwGk3CVBZWYxAQxobPlIyVVezbT8YLWWo49ga6f6F+lIymlcorF1/9PtZU\n",
              "gVBzoXjHN14+cuTgqFlD2uAFlQAAAJUBn2VqQj8AAAdrI7kAALq3ORZxT/XdLGq9os48gp0vQKlA\n",
              "d69fLyamucKO19NfZE2VQIS93/JByPEBbtYt/vpJbFpk+wZ3UCDDLj3moNK/+drfXiG55PdgxLXy\n",
              "2EVOVA9pFCxjgn/5eJ4rq1narq5JkE5ob2xyFG0wlLCqaLow41Dt6Qa9Ha6ciPY9R5w6qNMC6SrD\n",
              "AwAAAFZBm2dJqEFsmUwIR//94QAAAwFj9akvwr3tPlKF5QAp1rW52JauAii5zUUAeQOfX2TXF0RH\n",
              "HGJjAb9nprO2pAmCLAJ270w0j0WZmi/8jCZVQwlqnUDKgQAAC3ttb292AAAAbG12aGQAAAAAAAAA\n",
              "AAAAAAAAAAPoAAATiAABAAABAAAAAAAAAAAAAAAAAQAAAAAAAAAAAAAAAAAAAAEAAAAAAAAAAAAA\n",
              "AAAAAEAAAAAAAAAAAAAAAAAAAAAAAAAAAAAAAAAAAAAAAAACAAAKpXRyYWsAAABcdGtoZAAAAAMA\n",
              "AAAAAAAAAAAAAAEAAAAAAAATiAAAAAAAAAAAAAAAAAAAAAAAAQAAAAAAAAAAAAAAAAAAAAEAAAAA\n",
              "AAAAAAAAAAAAAEAAAAAEsAAAArwAAAAAACRlZHRzAAAAHGVsc3QAAAAAAAAAAQAAE4gAAAIAAAEA\n",
              "AAAACh1tZGlhAAAAIG1kaGQAAAAAAAAAAAAAAAAAACgAAADIAFXEAAAAAAAtaGRscgAAAAAAAAAA\n",
              "dmlkZQAAAAAAAAAAAAAAAFZpZGVvSGFuZGxlcgAAAAnIbWluZgAAABR2bWhkAAAAAQAAAAAAAAAA\n",
              "AAAAJGRpbmYAAAAcZHJlZgAAAAAAAAABAAAADHVybCAAAAABAAAJiHN0YmwAAAC4c3RzZAAAAAAA\n",
              "AAABAAAAqGF2YzEAAAAAAAAAAQAAAAAAAAAAAAAAAAAAAAAEsAK8AEgAAABIAAAAAAAAAAEAAAAA\n",
              "AAAAAAAAAAAAAAAAAAAAAAAAAAAAAAAAAAAAAAAY//8AAAA2YXZjQwFkACD/4QAZZ2QAIKzZQEsF\n",
              "n7hAAAADAEAAABQDxgxlgAEABmjr48siwP34+AAAAAAcdXVpZGtoQPJfJE/FujmlG88DI/MAAAAA\n",
              "AAAAGHN0dHMAAAAAAAAAAQAAAMgAAAEAAAAAFHN0c3MAAAAAAAAAAQAAAAEAAAU4Y3R0cwAAAAAA\n",
              "AAClAAAABQAAAgAAAAABAAADAAAAAAEAAAEAAAAAAQAABAAAAAACAAABAAAAAAEAAAIAAAAAAQAA\n",
              "BQAAAAABAAACAAAAAAEAAAAAAAAAAQAAAQAAAAABAAAFAAAAAAEAAAIAAAAAAQAAAAAAAAABAAAB\n",
              "AAAAAAEAAAUAAAAAAQAAAgAAAAABAAAAAAAAAAEAAAEAAAAAAQAABQAAAAABAAACAAAAAAEAAAAA\n",
              "AAAAAQAAAQAAAAABAAAEAAAAAAIAAAEAAAAAAQAABAAAAAACAAABAAAAAAEAAAUAAAAAAQAAAgAA\n",
              "AAABAAAAAAAAAAEAAAEAAAAAAQAABAAAAAACAAABAAAAAAEAAAQAAAAAAgAAAQAAAAABAAADAAAA\n",
              "AAEAAAEAAAAAAQAABQAAAAABAAACAAAAAAEAAAAAAAAAAQAAAQAAAAABAAAFAAAAAAEAAAIAAAAA\n",
              "AQAAAAAAAAABAAABAAAAAAEAAAUAAAAAAQAAAgAAAAABAAAAAAAAAAEAAAEAAAAAAQAABQAAAAAB\n",
              "AAACAAAAAAEAAAAAAAAAAQAAAQAAAAABAAAEAAAAAAIAAAEAAAAAAQAABQAAAAABAAACAAAAAAEA\n",
              "AAAAAAAAAQAAAQAAAAABAAAEAAAAAAIAAAEAAAAAAQAABQAAAAABAAACAAAAAAEAAAAAAAAAAQAA\n",
              "AQAAAAABAAAEAAAAAAIAAAEAAAAABQAAAgAAAAABAAAFAAAAAAEAAAIAAAAAAQAAAAAAAAABAAAB\n",
              "AAAAAAEAAAUAAAAAAQAAAgAAAAABAAAAAAAAAAEAAAEAAAAAAQAAAgAAAAABAAAEAAAAAAIAAAEA\n",
              "AAAAAQAABQAAAAABAAACAAAAAAEAAAAAAAAAAQAAAQAAAAABAAAEAAAAAAIAAAEAAAAAAQAABAAA\n",
              "AAACAAABAAAAAAEAAAUAAAAAAQAAAgAAAAABAAAAAAAAAAEAAAEAAAAAAQAABQAAAAABAAACAAAA\n",
              "AAEAAAAAAAAAAQAAAQAAAAABAAACAAAAAAEAAAUAAAAAAQAAAgAAAAABAAAAAAAAAAEAAAEAAAAA\n",
              "AQAAAwAAAAABAAABAAAAAAQAAAIAAAAAAQAABQAAAAABAAACAAAAAAEAAAAAAAAAAQAAAQAAAAAB\n",
              "AAAEAAAAAAIAAAEAAAAAAQAABQAAAAABAAACAAAAAAEAAAAAAAAAAQAAAQAAAAABAAAFAAAAAAEA\n",
              "AAIAAAAAAQAAAAAAAAABAAABAAAAAAEAAAUAAAAAAQAAAgAAAAABAAAAAAAAAAEAAAEAAAAAAgAA\n",
              "AgAAAAABAAAFAAAAAAEAAAIAAAAAAQAAAAAAAAABAAABAAAAAAEAAAIAAAAAAQAABQAAAAABAAAC\n",
              "AAAAAAEAAAAAAAAAAQAAAQAAAAABAAAEAAAAAAIAAAEAAAAAAwAAAgAAAAABAAAEAAAAAAIAAAEA\n",
              "AAAAAQAABAAAAAACAAABAAAAAAEAAAUAAAAAAQAAAgAAAAABAAAAAAAAAAEAAAEAAAAAAQAABQAA\n",
              "AAABAAACAAAAAAEAAAAAAAAAAQAAAQAAAAABAAACAAAAAAEAAAQAAAAAAgAAAQAAAAABAAAEAAAA\n",
              "AAIAAAEAAAAAAQAABQAAAAABAAACAAAAAAEAAAAAAAAAAQAAAQAAAAABAAACAAAAAAEAAAQAAAAA\n",
              "AgAAAQAAAAABAAAEAAAAAAIAAAEAAAAAAQAAAgAAAAABAAAEAAAAAAIAAAEAAAAAAQAABAAAAAAC\n",
              "AAABAAAAAAEAAAIAAAAAHHN0c2MAAAAAAAAAAQAAAAEAAADIAAAAAQAAAzRzdHN6AAAAAAAAAAAA\n",
              "AADIAAATFAAAAvQAAAMTAAACRQAAAOcAAADZAAAAgQAAAK4AAACDAAAAqQAAAIUAAACEAAAAtQAA\n",
              "AHQAAACXAAAAnwAAAFsAAACNAAAAdwAAAIoAAABXAAAAUQAAAIAAAABWAAAAygAAAFgAAACPAAAA\n",
              "eQAAAIkAAACXAAAApwAAAFcAAABnAAAAXAAAAG0AAABrAAAAXwAAAH4AAAEyAAAAiwAAAN0AAADr\n",
              "AAAAegAAAJMAAADaAAAAcgAAAKAAAAB3AAAAYgAAAIQAAABmAAAAkAAAAHIAAABaAAAAZQAAAHMA\n",
              "AAB7AAAAawAAAJwAAACRAAAAYQAAAH0AAACjAAAAcAAAAK4AAABfAAAAfwAAAHoAAABkAAAAbAAA\n",
              "AHUAAABcAAAAVAAAAGQAAABsAAAAfgAAAFoAAACIAAAAcQAAAFwAAACjAAAAnwAAAIcAAADkAAAA\n",
              "hwAAAHgAAABXAAAAkgAAAEkAAABjAAAAjQAAAG8AAAB4AAABQgAAAHcAAACzAAAAjQAAAIEAAACD\n",
              "AAAAhgAAAKcAAACeAAAAhgAAAIoAAACFAAAAbAAAAFYAAACcAAAAbAAAAE0AAACsAAAAWwAAAG4A\n",
              "AABuAAAAjwAAAJ8AAACNAAAAgQAAAHgAAABpAAAAqwAAAIUAAACLAAAAlwAAAMMAAAB9AAAAhQAA\n",
              "ALoAAADKAAAAgwAAAJUAAABeAAAAtgAAAFYAAACbAAAAiQAAAFEAAAB2AAAAawAAAEsAAABNAAAA\n",
              "dAAAAHUAAABHAAAAhgAAAE0AAACQAAAAdgAAALQAAABlAAAAVAAAAJAAAACaAAAAggAAAIUAAADh\n",
              "AAAAVgAAAGwAAAB9AAAAfAAAAMgAAACuAAAAegAAAOcAAACiAAAArwAAAJ0AAAB+AAAAnQAAAJYA\n",
              "AACIAAAAgwAAAHIAAACiAAAAgAAAAGYAAACIAAAAlAAAALQAAACNAAAAZgAAAKQAAAB6AAAAaAAA\n",
              "AIIAAABvAAAAUQAAAGAAAABkAAAAkwAAAGQAAABmAAAAdAAAAEsAAABUAAAAlAAAAHgAAAB5AAAA\n",
              "mQAAAFoAAAAUc3RjbwAAAAAAAAABAAAAMAAAAGJ1ZHRhAAAAWm1ldGEAAAAAAAAAIWhkbHIAAAAA\n",
              "AAAAAG1kaXJhcHBsAAAAAAAAAAAAAAAALWlsc3QAAAAlqXRvbwAAAB1kYXRhAAAAAQAAAABMYXZm\n",
              "NjAuMTAuMTAw\n",
              "\">\n",
              "  Your browser does not support the video tag.\n",
              "</video>"
            ],
            "text/plain": [
              "<IPython.core.display.HTML object>"
            ]
          },
          "execution_count": 21,
          "metadata": {},
          "output_type": "execute_result"
        },
        {
          "data": {
            "image/png": "[encoded data removed]",
            "text/plain": [
              "<Figure size 1200x700 with 1 Axes>"
            ]
          },
          "metadata": {},
          "output_type": "display_data"
        }
      ],
      "source": [
        "from IPython.display import HTML\n",
        "\n",
        "idx = 0\n",
        "\n",
        "fig, ax = plt.subplots(facecolor='w', figsize=(12, 7))\n",
        "labels=['0', '1', '2', '3', '4', '5', '6', '7', '8','9']\n",
        "print(f\"The target label is: {targets[idx]}\")\n",
        "\n",
        "plt.rcParams['animation.ffmpeg_path'] = 'D:\\\\GoodApp\\\\ffmpeg\\\\bin\\\\ffmpeg.exe'\n",
        "\n",
        "#  Plot spike count histogram\n",
        "anim = splt.spike_count(spk_rec[:, idx].detach().cpu(), fig, ax, labels=labels,\n",
        "                        animate=True, interpolate=4)\n",
        "\n",
        "HTML(anim.to_html5_video())\n",
        "# anim.save(\"spike_bar.mp4\")"
      ]
    },
    {
      "cell_type": "markdown",
      "metadata": {
        "id": "s0dAgWUt2o6E"
      },
      "source": [
        "# 结论\n",
        "你现在应该掌握了 snnTorch 的基本功能，并能够开始运行自己的实验。 [在下一个教程中](https://snntorch.readthedocs.io/en/latest/tutorials/index.html)，我们将使用神经形态数据集训练网络。\n",
        "\n",
        "特别感谢 [Gianfrancesco Angelini](https://github.com/gianfa) 提供有关本教程的宝贵反馈。\n",
        "\n",
        "如果您喜欢这个项目，请考虑为 GitHub 上的存储库加⭐，因为这是支持它的最简单、最好的方式。"
      ]
    },
    {
      "cell_type": "markdown",
      "metadata": {
        "id": "q8eFeW-yeGci"
      },
      "source": [
        "# Additional Resources\n",
        "* [Check out the snnTorch GitHub project here.](https://github.com/jeshraghian/snntorch)"
      ]
    }
  ],
  "metadata": {
    "accelerator": "GPU",
    "colab": {
      "name": "tutorial_6_CNN.ipynb",
      "provenance": []
    },
    "kernelspec": {
      "display_name": "Python 3",
      "language": "python",
      "name": "python3"
    },
    "language_info": {
      "codemirror_mode": {
        "name": "ipython",
        "version": 3
      },
      "file_extension": ".py",
      "mimetype": "text/x-python",
      "name": "python",
      "nbconvert_exporter": "python",
      "pygments_lexer": "ipython3",
      "version": "3.10.10"
    },
    "vscode": {
      "interpreter": {
        "hash": "aee8b7b246df8f9039afb4144a1f6fd8d2ca17a180786b69acc140d282b71a49"
      }
    }
  },
  "nbformat": 4,
  "nbformat_minor": 0
}
